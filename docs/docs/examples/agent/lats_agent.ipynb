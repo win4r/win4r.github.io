{
  "cells": [
    {
      "cell_type": "markdown",
      "id": "ca17b65c-fc0f-4529-9ee9-2a6e5399a5b2",
      "metadata": {
        "id": "ca17b65c-fc0f-4529-9ee9-2a6e5399a5b2"
      },
      "source": [
        "# Language Agent Tree Search\n",
        "\n",
        "<a href=\"https://colab.research.google.com/github/run-llama/llama_index/blob/main/docs/docs/examples/agent/lats_agent.ipynb\" target=\"_parent\"><img src=\"https://colab.research.google.com/assets/colab-badge.svg\" alt=\"Open In Colab\"/></a>\n",
        "\n",
        "[LATS (Language Agent Tree Search)](https://arxiv.org/pdf/2310.04406.pdf) by Zhou et al. combines LLM capabilities in planning, acting, and reasoning within a Monte Carlo tree search framework, allowing for deliberate and adaptive problem-solving guided by external feedback and self-reflection.\n",
        "\n",
        "We've implemented this agent as a LlamaPack - you can either pip install it to run it out-of-the-box or call `download_llama_pack` to load the pack."
      ]
    },
    {
      "cell_type": "markdown",
      "id": "91dfcbf6-9dc2-44a2-929d-df994b353031",
      "metadata": {
        "id": "91dfcbf6-9dc2-44a2-929d-df994b353031"
      },
      "source": [
        "## Setup"
      ]
    },
    {
      "cell_type": "code",
      "execution_count": 59,
      "id": "a256034a-637c-42ec-9d34-99282b3877f6",
      "metadata": {
        "colab": {
          "base_uri": "https://localhost:8080/"
        },
        "id": "a256034a-637c-42ec-9d34-99282b3877f6",
        "outputId": "eba25fae-6d05-4e71-c696-47f74fac8b57"
      },
      "outputs": [
        {
          "output_type": "stream",
          "name": "stdout",
          "text": [
            "Requirement already satisfied: llama-index-agent-lats in /usr/local/lib/python3.10/dist-packages (0.2.1)\n",
            "Requirement already satisfied: llama-index-core<0.12.0,>=0.11.0 in /usr/local/lib/python3.10/dist-packages (from llama-index-agent-lats) (0.11.10)\n",
            "Requirement already satisfied: PyYAML>=6.0.1 in /usr/local/lib/python3.10/dist-packages (from llama-index-core<0.12.0,>=0.11.0->llama-index-agent-lats) (6.0.2)\n",
            "Requirement already satisfied: SQLAlchemy>=1.4.49 in /usr/local/lib/python3.10/dist-packages (from SQLAlchemy[asyncio]>=1.4.49->llama-index-core<0.12.0,>=0.11.0->llama-index-agent-lats) (2.0.34)\n",
            "Requirement already satisfied: aiohttp<4.0.0,>=3.8.6 in /usr/local/lib/python3.10/dist-packages (from llama-index-core<0.12.0,>=0.11.0->llama-index-agent-lats) (3.10.5)\n",
            "Requirement already satisfied: dataclasses-json in /usr/local/lib/python3.10/dist-packages (from llama-index-core<0.12.0,>=0.11.0->llama-index-agent-lats) (0.6.7)\n",
            "Requirement already satisfied: deprecated>=1.2.9.3 in /usr/local/lib/python3.10/dist-packages (from llama-index-core<0.12.0,>=0.11.0->llama-index-agent-lats) (1.2.14)\n",
            "Requirement already satisfied: dirtyjson<2.0.0,>=1.0.8 in /usr/local/lib/python3.10/dist-packages (from llama-index-core<0.12.0,>=0.11.0->llama-index-agent-lats) (1.0.8)\n",
            "Requirement already satisfied: fsspec>=2023.5.0 in /usr/local/lib/python3.10/dist-packages (from llama-index-core<0.12.0,>=0.11.0->llama-index-agent-lats) (2024.6.1)\n",
            "Requirement already satisfied: httpx in /usr/local/lib/python3.10/dist-packages (from llama-index-core<0.12.0,>=0.11.0->llama-index-agent-lats) (0.27.2)\n",
            "Requirement already satisfied: nest-asyncio<2.0.0,>=1.5.8 in /usr/local/lib/python3.10/dist-packages (from llama-index-core<0.12.0,>=0.11.0->llama-index-agent-lats) (1.6.0)\n",
            "Requirement already satisfied: networkx>=3.0 in /usr/local/lib/python3.10/dist-packages (from llama-index-core<0.12.0,>=0.11.0->llama-index-agent-lats) (3.3)\n",
            "Requirement already satisfied: nltk>3.8.1 in /usr/local/lib/python3.10/dist-packages (from llama-index-core<0.12.0,>=0.11.0->llama-index-agent-lats) (3.9.1)\n",
            "Requirement already satisfied: numpy<2.0.0 in /usr/local/lib/python3.10/dist-packages (from llama-index-core<0.12.0,>=0.11.0->llama-index-agent-lats) (1.26.4)\n",
            "Requirement already satisfied: pillow>=9.0.0 in /usr/local/lib/python3.10/dist-packages (from llama-index-core<0.12.0,>=0.11.0->llama-index-agent-lats) (10.4.0)\n",
            "Requirement already satisfied: pydantic<3.0.0,>=2.7.0 in /usr/local/lib/python3.10/dist-packages (from llama-index-core<0.12.0,>=0.11.0->llama-index-agent-lats) (2.9.1)\n",
            "Requirement already satisfied: requests>=2.31.0 in /usr/local/lib/python3.10/dist-packages (from llama-index-core<0.12.0,>=0.11.0->llama-index-agent-lats) (2.32.3)\n",
            "Requirement already satisfied: tenacity!=8.4.0,<9.0.0,>=8.2.0 in /usr/local/lib/python3.10/dist-packages (from llama-index-core<0.12.0,>=0.11.0->llama-index-agent-lats) (8.5.0)\n",
            "Requirement already satisfied: tiktoken>=0.3.3 in /usr/local/lib/python3.10/dist-packages (from llama-index-core<0.12.0,>=0.11.0->llama-index-agent-lats) (0.7.0)\n",
            "Requirement already satisfied: tqdm<5.0.0,>=4.66.1 in /usr/local/lib/python3.10/dist-packages (from llama-index-core<0.12.0,>=0.11.0->llama-index-agent-lats) (4.66.5)\n",
            "Requirement already satisfied: typing-extensions>=4.5.0 in /usr/local/lib/python3.10/dist-packages (from llama-index-core<0.12.0,>=0.11.0->llama-index-agent-lats) (4.12.2)\n",
            "Requirement already satisfied: typing-inspect>=0.8.0 in /usr/local/lib/python3.10/dist-packages (from llama-index-core<0.12.0,>=0.11.0->llama-index-agent-lats) (0.9.0)\n",
            "Requirement already satisfied: wrapt in /usr/local/lib/python3.10/dist-packages (from llama-index-core<0.12.0,>=0.11.0->llama-index-agent-lats) (1.16.0)\n",
            "Requirement already satisfied: aiohappyeyeballs>=2.3.0 in /usr/local/lib/python3.10/dist-packages (from aiohttp<4.0.0,>=3.8.6->llama-index-core<0.12.0,>=0.11.0->llama-index-agent-lats) (2.4.0)\n",
            "Requirement already satisfied: aiosignal>=1.1.2 in /usr/local/lib/python3.10/dist-packages (from aiohttp<4.0.0,>=3.8.6->llama-index-core<0.12.0,>=0.11.0->llama-index-agent-lats) (1.3.1)\n",
            "Requirement already satisfied: attrs>=17.3.0 in /usr/local/lib/python3.10/dist-packages (from aiohttp<4.0.0,>=3.8.6->llama-index-core<0.12.0,>=0.11.0->llama-index-agent-lats) (24.2.0)\n",
            "Requirement already satisfied: frozenlist>=1.1.1 in /usr/local/lib/python3.10/dist-packages (from aiohttp<4.0.0,>=3.8.6->llama-index-core<0.12.0,>=0.11.0->llama-index-agent-lats) (1.4.1)\n",
            "Requirement already satisfied: multidict<7.0,>=4.5 in /usr/local/lib/python3.10/dist-packages (from aiohttp<4.0.0,>=3.8.6->llama-index-core<0.12.0,>=0.11.0->llama-index-agent-lats) (6.1.0)\n",
            "Requirement already satisfied: yarl<2.0,>=1.0 in /usr/local/lib/python3.10/dist-packages (from aiohttp<4.0.0,>=3.8.6->llama-index-core<0.12.0,>=0.11.0->llama-index-agent-lats) (1.11.1)\n",
            "Requirement already satisfied: async-timeout<5.0,>=4.0 in /usr/local/lib/python3.10/dist-packages (from aiohttp<4.0.0,>=3.8.6->llama-index-core<0.12.0,>=0.11.0->llama-index-agent-lats) (4.0.3)\n",
            "Requirement already satisfied: click in /usr/local/lib/python3.10/dist-packages (from nltk>3.8.1->llama-index-core<0.12.0,>=0.11.0->llama-index-agent-lats) (8.1.7)\n",
            "Requirement already satisfied: joblib in /usr/local/lib/python3.10/dist-packages (from nltk>3.8.1->llama-index-core<0.12.0,>=0.11.0->llama-index-agent-lats) (1.4.2)\n",
            "Requirement already satisfied: regex>=2021.8.3 in /usr/local/lib/python3.10/dist-packages (from nltk>3.8.1->llama-index-core<0.12.0,>=0.11.0->llama-index-agent-lats) (2024.9.11)\n",
            "Requirement already satisfied: annotated-types>=0.6.0 in /usr/local/lib/python3.10/dist-packages (from pydantic<3.0.0,>=2.7.0->llama-index-core<0.12.0,>=0.11.0->llama-index-agent-lats) (0.7.0)\n",
            "Requirement already satisfied: pydantic-core==2.23.3 in /usr/local/lib/python3.10/dist-packages (from pydantic<3.0.0,>=2.7.0->llama-index-core<0.12.0,>=0.11.0->llama-index-agent-lats) (2.23.3)\n",
            "Requirement already satisfied: charset-normalizer<4,>=2 in /usr/local/lib/python3.10/dist-packages (from requests>=2.31.0->llama-index-core<0.12.0,>=0.11.0->llama-index-agent-lats) (3.3.2)\n",
            "Requirement already satisfied: idna<4,>=2.5 in /usr/local/lib/python3.10/dist-packages (from requests>=2.31.0->llama-index-core<0.12.0,>=0.11.0->llama-index-agent-lats) (3.10)\n",
            "Requirement already satisfied: urllib3<3,>=1.21.1 in /usr/local/lib/python3.10/dist-packages (from requests>=2.31.0->llama-index-core<0.12.0,>=0.11.0->llama-index-agent-lats) (2.0.7)\n",
            "Requirement already satisfied: certifi>=2017.4.17 in /usr/local/lib/python3.10/dist-packages (from requests>=2.31.0->llama-index-core<0.12.0,>=0.11.0->llama-index-agent-lats) (2024.8.30)\n",
            "Requirement already satisfied: greenlet!=0.4.17 in /usr/local/lib/python3.10/dist-packages (from SQLAlchemy>=1.4.49->SQLAlchemy[asyncio]>=1.4.49->llama-index-core<0.12.0,>=0.11.0->llama-index-agent-lats) (3.1.0)\n",
            "Requirement already satisfied: mypy-extensions>=0.3.0 in /usr/local/lib/python3.10/dist-packages (from typing-inspect>=0.8.0->llama-index-core<0.12.0,>=0.11.0->llama-index-agent-lats) (1.0.0)\n",
            "Requirement already satisfied: marshmallow<4.0.0,>=3.18.0 in /usr/local/lib/python3.10/dist-packages (from dataclasses-json->llama-index-core<0.12.0,>=0.11.0->llama-index-agent-lats) (3.22.0)\n",
            "Requirement already satisfied: anyio in /usr/local/lib/python3.10/dist-packages (from httpx->llama-index-core<0.12.0,>=0.11.0->llama-index-agent-lats) (3.7.1)\n",
            "Requirement already satisfied: httpcore==1.* in /usr/local/lib/python3.10/dist-packages (from httpx->llama-index-core<0.12.0,>=0.11.0->llama-index-agent-lats) (1.0.5)\n",
            "Requirement already satisfied: sniffio in /usr/local/lib/python3.10/dist-packages (from httpx->llama-index-core<0.12.0,>=0.11.0->llama-index-agent-lats) (1.3.1)\n",
            "Requirement already satisfied: h11<0.15,>=0.13 in /usr/local/lib/python3.10/dist-packages (from httpcore==1.*->httpx->llama-index-core<0.12.0,>=0.11.0->llama-index-agent-lats) (0.14.0)\n",
            "Requirement already satisfied: packaging>=17.0 in /usr/local/lib/python3.10/dist-packages (from marshmallow<4.0.0,>=3.18.0->dataclasses-json->llama-index-core<0.12.0,>=0.11.0->llama-index-agent-lats) (24.1)\n",
            "Requirement already satisfied: exceptiongroup in /usr/local/lib/python3.10/dist-packages (from anyio->httpx->llama-index-core<0.12.0,>=0.11.0->llama-index-agent-lats) (1.2.2)\n",
            "Requirement already satisfied: llama-index-core in /usr/local/lib/python3.10/dist-packages (0.11.10)\n",
            "Requirement already satisfied: llama-index-readers-file in /usr/local/lib/python3.10/dist-packages (0.2.1)\n",
            "Requirement already satisfied: PyYAML>=6.0.1 in /usr/local/lib/python3.10/dist-packages (from llama-index-core) (6.0.2)\n",
            "Requirement already satisfied: SQLAlchemy>=1.4.49 in /usr/local/lib/python3.10/dist-packages (from SQLAlchemy[asyncio]>=1.4.49->llama-index-core) (2.0.34)\n",
            "Requirement already satisfied: aiohttp<4.0.0,>=3.8.6 in /usr/local/lib/python3.10/dist-packages (from llama-index-core) (3.10.5)\n",
            "Requirement already satisfied: dataclasses-json in /usr/local/lib/python3.10/dist-packages (from llama-index-core) (0.6.7)\n",
            "Requirement already satisfied: deprecated>=1.2.9.3 in /usr/local/lib/python3.10/dist-packages (from llama-index-core) (1.2.14)\n",
            "Requirement already satisfied: dirtyjson<2.0.0,>=1.0.8 in /usr/local/lib/python3.10/dist-packages (from llama-index-core) (1.0.8)\n",
            "Requirement already satisfied: fsspec>=2023.5.0 in /usr/local/lib/python3.10/dist-packages (from llama-index-core) (2024.6.1)\n",
            "Requirement already satisfied: httpx in /usr/local/lib/python3.10/dist-packages (from llama-index-core) (0.27.2)\n",
            "Requirement already satisfied: nest-asyncio<2.0.0,>=1.5.8 in /usr/local/lib/python3.10/dist-packages (from llama-index-core) (1.6.0)\n",
            "Requirement already satisfied: networkx>=3.0 in /usr/local/lib/python3.10/dist-packages (from llama-index-core) (3.3)\n",
            "Requirement already satisfied: nltk>3.8.1 in /usr/local/lib/python3.10/dist-packages (from llama-index-core) (3.9.1)\n",
            "Requirement already satisfied: numpy<2.0.0 in /usr/local/lib/python3.10/dist-packages (from llama-index-core) (1.26.4)\n",
            "Requirement already satisfied: pillow>=9.0.0 in /usr/local/lib/python3.10/dist-packages (from llama-index-core) (10.4.0)\n",
            "Requirement already satisfied: pydantic<3.0.0,>=2.7.0 in /usr/local/lib/python3.10/dist-packages (from llama-index-core) (2.9.1)\n",
            "Requirement already satisfied: requests>=2.31.0 in /usr/local/lib/python3.10/dist-packages (from llama-index-core) (2.32.3)\n",
            "Requirement already satisfied: tenacity!=8.4.0,<9.0.0,>=8.2.0 in /usr/local/lib/python3.10/dist-packages (from llama-index-core) (8.5.0)\n",
            "Requirement already satisfied: tiktoken>=0.3.3 in /usr/local/lib/python3.10/dist-packages (from llama-index-core) (0.7.0)\n",
            "Requirement already satisfied: tqdm<5.0.0,>=4.66.1 in /usr/local/lib/python3.10/dist-packages (from llama-index-core) (4.66.5)\n",
            "Requirement already satisfied: typing-extensions>=4.5.0 in /usr/local/lib/python3.10/dist-packages (from llama-index-core) (4.12.2)\n",
            "Requirement already satisfied: typing-inspect>=0.8.0 in /usr/local/lib/python3.10/dist-packages (from llama-index-core) (0.9.0)\n",
            "Requirement already satisfied: wrapt in /usr/local/lib/python3.10/dist-packages (from llama-index-core) (1.16.0)\n",
            "Requirement already satisfied: beautifulsoup4<5.0.0,>=4.12.3 in /usr/local/lib/python3.10/dist-packages (from llama-index-readers-file) (4.12.3)\n",
            "Requirement already satisfied: pandas in /usr/local/lib/python3.10/dist-packages (from llama-index-readers-file) (2.1.4)\n",
            "Requirement already satisfied: pypdf<5.0.0,>=4.0.1 in /usr/local/lib/python3.10/dist-packages (from llama-index-readers-file) (4.3.1)\n",
            "Requirement already satisfied: striprtf<0.0.27,>=0.0.26 in /usr/local/lib/python3.10/dist-packages (from llama-index-readers-file) (0.0.26)\n",
            "Requirement already satisfied: aiohappyeyeballs>=2.3.0 in /usr/local/lib/python3.10/dist-packages (from aiohttp<4.0.0,>=3.8.6->llama-index-core) (2.4.0)\n",
            "Requirement already satisfied: aiosignal>=1.1.2 in /usr/local/lib/python3.10/dist-packages (from aiohttp<4.0.0,>=3.8.6->llama-index-core) (1.3.1)\n",
            "Requirement already satisfied: attrs>=17.3.0 in /usr/local/lib/python3.10/dist-packages (from aiohttp<4.0.0,>=3.8.6->llama-index-core) (24.2.0)\n",
            "Requirement already satisfied: frozenlist>=1.1.1 in /usr/local/lib/python3.10/dist-packages (from aiohttp<4.0.0,>=3.8.6->llama-index-core) (1.4.1)\n",
            "Requirement already satisfied: multidict<7.0,>=4.5 in /usr/local/lib/python3.10/dist-packages (from aiohttp<4.0.0,>=3.8.6->llama-index-core) (6.1.0)\n",
            "Requirement already satisfied: yarl<2.0,>=1.0 in /usr/local/lib/python3.10/dist-packages (from aiohttp<4.0.0,>=3.8.6->llama-index-core) (1.11.1)\n",
            "Requirement already satisfied: async-timeout<5.0,>=4.0 in /usr/local/lib/python3.10/dist-packages (from aiohttp<4.0.0,>=3.8.6->llama-index-core) (4.0.3)\n",
            "Requirement already satisfied: soupsieve>1.2 in /usr/local/lib/python3.10/dist-packages (from beautifulsoup4<5.0.0,>=4.12.3->llama-index-readers-file) (2.6)\n",
            "Requirement already satisfied: click in /usr/local/lib/python3.10/dist-packages (from nltk>3.8.1->llama-index-core) (8.1.7)\n",
            "Requirement already satisfied: joblib in /usr/local/lib/python3.10/dist-packages (from nltk>3.8.1->llama-index-core) (1.4.2)\n",
            "Requirement already satisfied: regex>=2021.8.3 in /usr/local/lib/python3.10/dist-packages (from nltk>3.8.1->llama-index-core) (2024.9.11)\n",
            "Requirement already satisfied: annotated-types>=0.6.0 in /usr/local/lib/python3.10/dist-packages (from pydantic<3.0.0,>=2.7.0->llama-index-core) (0.7.0)\n",
            "Requirement already satisfied: pydantic-core==2.23.3 in /usr/local/lib/python3.10/dist-packages (from pydantic<3.0.0,>=2.7.0->llama-index-core) (2.23.3)\n",
            "Requirement already satisfied: charset-normalizer<4,>=2 in /usr/local/lib/python3.10/dist-packages (from requests>=2.31.0->llama-index-core) (3.3.2)\n",
            "Requirement already satisfied: idna<4,>=2.5 in /usr/local/lib/python3.10/dist-packages (from requests>=2.31.0->llama-index-core) (3.10)\n",
            "Requirement already satisfied: urllib3<3,>=1.21.1 in /usr/local/lib/python3.10/dist-packages (from requests>=2.31.0->llama-index-core) (2.0.7)\n",
            "Requirement already satisfied: certifi>=2017.4.17 in /usr/local/lib/python3.10/dist-packages (from requests>=2.31.0->llama-index-core) (2024.8.30)\n",
            "Requirement already satisfied: greenlet!=0.4.17 in /usr/local/lib/python3.10/dist-packages (from SQLAlchemy>=1.4.49->SQLAlchemy[asyncio]>=1.4.49->llama-index-core) (3.1.0)\n",
            "Requirement already satisfied: mypy-extensions>=0.3.0 in /usr/local/lib/python3.10/dist-packages (from typing-inspect>=0.8.0->llama-index-core) (1.0.0)\n",
            "Requirement already satisfied: marshmallow<4.0.0,>=3.18.0 in /usr/local/lib/python3.10/dist-packages (from dataclasses-json->llama-index-core) (3.22.0)\n",
            "Requirement already satisfied: anyio in /usr/local/lib/python3.10/dist-packages (from httpx->llama-index-core) (3.7.1)\n",
            "Requirement already satisfied: httpcore==1.* in /usr/local/lib/python3.10/dist-packages (from httpx->llama-index-core) (1.0.5)\n",
            "Requirement already satisfied: sniffio in /usr/local/lib/python3.10/dist-packages (from httpx->llama-index-core) (1.3.1)\n",
            "Requirement already satisfied: h11<0.15,>=0.13 in /usr/local/lib/python3.10/dist-packages (from httpcore==1.*->httpx->llama-index-core) (0.14.0)\n",
            "Requirement already satisfied: python-dateutil>=2.8.2 in /usr/local/lib/python3.10/dist-packages (from pandas->llama-index-readers-file) (2.8.2)\n",
            "Requirement already satisfied: pytz>=2020.1 in /usr/local/lib/python3.10/dist-packages (from pandas->llama-index-readers-file) (2024.2)\n",
            "Requirement already satisfied: tzdata>=2022.1 in /usr/local/lib/python3.10/dist-packages (from pandas->llama-index-readers-file) (2024.1)\n",
            "Requirement already satisfied: packaging>=17.0 in /usr/local/lib/python3.10/dist-packages (from marshmallow<4.0.0,>=3.18.0->dataclasses-json->llama-index-core) (24.1)\n",
            "Requirement already satisfied: six>=1.5 in /usr/local/lib/python3.10/dist-packages (from python-dateutil>=2.8.2->pandas->llama-index-readers-file) (1.16.0)\n",
            "Requirement already satisfied: exceptiongroup in /usr/local/lib/python3.10/dist-packages (from anyio->httpx->llama-index-core) (1.2.2)\n",
            "Requirement already satisfied: llama-index-llms-mistralai in /usr/local/lib/python3.10/dist-packages (0.2.5)\n",
            "Requirement already satisfied: llama-index-core<0.12.0,>=0.11.0 in /usr/local/lib/python3.10/dist-packages (from llama-index-llms-mistralai) (0.11.10)\n",
            "Requirement already satisfied: mistralai>=1.0.0 in /usr/local/lib/python3.10/dist-packages (from llama-index-llms-mistralai) (1.1.0)\n",
            "Requirement already satisfied: PyYAML>=6.0.1 in /usr/local/lib/python3.10/dist-packages (from llama-index-core<0.12.0,>=0.11.0->llama-index-llms-mistralai) (6.0.2)\n",
            "Requirement already satisfied: SQLAlchemy>=1.4.49 in /usr/local/lib/python3.10/dist-packages (from SQLAlchemy[asyncio]>=1.4.49->llama-index-core<0.12.0,>=0.11.0->llama-index-llms-mistralai) (2.0.34)\n",
            "Requirement already satisfied: aiohttp<4.0.0,>=3.8.6 in /usr/local/lib/python3.10/dist-packages (from llama-index-core<0.12.0,>=0.11.0->llama-index-llms-mistralai) (3.10.5)\n",
            "Requirement already satisfied: dataclasses-json in /usr/local/lib/python3.10/dist-packages (from llama-index-core<0.12.0,>=0.11.0->llama-index-llms-mistralai) (0.6.7)\n",
            "Requirement already satisfied: deprecated>=1.2.9.3 in /usr/local/lib/python3.10/dist-packages (from llama-index-core<0.12.0,>=0.11.0->llama-index-llms-mistralai) (1.2.14)\n",
            "Requirement already satisfied: dirtyjson<2.0.0,>=1.0.8 in /usr/local/lib/python3.10/dist-packages (from llama-index-core<0.12.0,>=0.11.0->llama-index-llms-mistralai) (1.0.8)\n",
            "Requirement already satisfied: fsspec>=2023.5.0 in /usr/local/lib/python3.10/dist-packages (from llama-index-core<0.12.0,>=0.11.0->llama-index-llms-mistralai) (2024.6.1)\n",
            "Requirement already satisfied: httpx in /usr/local/lib/python3.10/dist-packages (from llama-index-core<0.12.0,>=0.11.0->llama-index-llms-mistralai) (0.27.2)\n",
            "Requirement already satisfied: nest-asyncio<2.0.0,>=1.5.8 in /usr/local/lib/python3.10/dist-packages (from llama-index-core<0.12.0,>=0.11.0->llama-index-llms-mistralai) (1.6.0)\n",
            "Requirement already satisfied: networkx>=3.0 in /usr/local/lib/python3.10/dist-packages (from llama-index-core<0.12.0,>=0.11.0->llama-index-llms-mistralai) (3.3)\n",
            "Requirement already satisfied: nltk>3.8.1 in /usr/local/lib/python3.10/dist-packages (from llama-index-core<0.12.0,>=0.11.0->llama-index-llms-mistralai) (3.9.1)\n",
            "Requirement already satisfied: numpy<2.0.0 in /usr/local/lib/python3.10/dist-packages (from llama-index-core<0.12.0,>=0.11.0->llama-index-llms-mistralai) (1.26.4)\n",
            "Requirement already satisfied: pillow>=9.0.0 in /usr/local/lib/python3.10/dist-packages (from llama-index-core<0.12.0,>=0.11.0->llama-index-llms-mistralai) (10.4.0)\n",
            "Requirement already satisfied: pydantic<3.0.0,>=2.7.0 in /usr/local/lib/python3.10/dist-packages (from llama-index-core<0.12.0,>=0.11.0->llama-index-llms-mistralai) (2.9.1)\n",
            "Requirement already satisfied: requests>=2.31.0 in /usr/local/lib/python3.10/dist-packages (from llama-index-core<0.12.0,>=0.11.0->llama-index-llms-mistralai) (2.32.3)\n",
            "Requirement already satisfied: tenacity!=8.4.0,<9.0.0,>=8.2.0 in /usr/local/lib/python3.10/dist-packages (from llama-index-core<0.12.0,>=0.11.0->llama-index-llms-mistralai) (8.5.0)\n",
            "Requirement already satisfied: tiktoken>=0.3.3 in /usr/local/lib/python3.10/dist-packages (from llama-index-core<0.12.0,>=0.11.0->llama-index-llms-mistralai) (0.7.0)\n",
            "Requirement already satisfied: tqdm<5.0.0,>=4.66.1 in /usr/local/lib/python3.10/dist-packages (from llama-index-core<0.12.0,>=0.11.0->llama-index-llms-mistralai) (4.66.5)\n",
            "Requirement already satisfied: typing-extensions>=4.5.0 in /usr/local/lib/python3.10/dist-packages (from llama-index-core<0.12.0,>=0.11.0->llama-index-llms-mistralai) (4.12.2)\n",
            "Requirement already satisfied: typing-inspect>=0.8.0 in /usr/local/lib/python3.10/dist-packages (from llama-index-core<0.12.0,>=0.11.0->llama-index-llms-mistralai) (0.9.0)\n",
            "Requirement already satisfied: wrapt in /usr/local/lib/python3.10/dist-packages (from llama-index-core<0.12.0,>=0.11.0->llama-index-llms-mistralai) (1.16.0)\n",
            "Requirement already satisfied: eval-type-backport<0.3.0,>=0.2.0 in /usr/local/lib/python3.10/dist-packages (from mistralai>=1.0.0->llama-index-llms-mistralai) (0.2.0)\n",
            "Requirement already satisfied: jsonpath-python<2.0.0,>=1.0.6 in /usr/local/lib/python3.10/dist-packages (from mistralai>=1.0.0->llama-index-llms-mistralai) (1.0.6)\n",
            "Requirement already satisfied: python-dateutil==2.8.2 in /usr/local/lib/python3.10/dist-packages (from mistralai>=1.0.0->llama-index-llms-mistralai) (2.8.2)\n",
            "Requirement already satisfied: six>=1.5 in /usr/local/lib/python3.10/dist-packages (from python-dateutil==2.8.2->mistralai>=1.0.0->llama-index-llms-mistralai) (1.16.0)\n",
            "Requirement already satisfied: aiohappyeyeballs>=2.3.0 in /usr/local/lib/python3.10/dist-packages (from aiohttp<4.0.0,>=3.8.6->llama-index-core<0.12.0,>=0.11.0->llama-index-llms-mistralai) (2.4.0)\n",
            "Requirement already satisfied: aiosignal>=1.1.2 in /usr/local/lib/python3.10/dist-packages (from aiohttp<4.0.0,>=3.8.6->llama-index-core<0.12.0,>=0.11.0->llama-index-llms-mistralai) (1.3.1)\n",
            "Requirement already satisfied: attrs>=17.3.0 in /usr/local/lib/python3.10/dist-packages (from aiohttp<4.0.0,>=3.8.6->llama-index-core<0.12.0,>=0.11.0->llama-index-llms-mistralai) (24.2.0)\n",
            "Requirement already satisfied: frozenlist>=1.1.1 in /usr/local/lib/python3.10/dist-packages (from aiohttp<4.0.0,>=3.8.6->llama-index-core<0.12.0,>=0.11.0->llama-index-llms-mistralai) (1.4.1)\n",
            "Requirement already satisfied: multidict<7.0,>=4.5 in /usr/local/lib/python3.10/dist-packages (from aiohttp<4.0.0,>=3.8.6->llama-index-core<0.12.0,>=0.11.0->llama-index-llms-mistralai) (6.1.0)\n",
            "Requirement already satisfied: yarl<2.0,>=1.0 in /usr/local/lib/python3.10/dist-packages (from aiohttp<4.0.0,>=3.8.6->llama-index-core<0.12.0,>=0.11.0->llama-index-llms-mistralai) (1.11.1)\n",
            "Requirement already satisfied: async-timeout<5.0,>=4.0 in /usr/local/lib/python3.10/dist-packages (from aiohttp<4.0.0,>=3.8.6->llama-index-core<0.12.0,>=0.11.0->llama-index-llms-mistralai) (4.0.3)\n",
            "Requirement already satisfied: anyio in /usr/local/lib/python3.10/dist-packages (from httpx->llama-index-core<0.12.0,>=0.11.0->llama-index-llms-mistralai) (3.7.1)\n",
            "Requirement already satisfied: certifi in /usr/local/lib/python3.10/dist-packages (from httpx->llama-index-core<0.12.0,>=0.11.0->llama-index-llms-mistralai) (2024.8.30)\n",
            "Requirement already satisfied: httpcore==1.* in /usr/local/lib/python3.10/dist-packages (from httpx->llama-index-core<0.12.0,>=0.11.0->llama-index-llms-mistralai) (1.0.5)\n",
            "Requirement already satisfied: idna in /usr/local/lib/python3.10/dist-packages (from httpx->llama-index-core<0.12.0,>=0.11.0->llama-index-llms-mistralai) (3.10)\n",
            "Requirement already satisfied: sniffio in /usr/local/lib/python3.10/dist-packages (from httpx->llama-index-core<0.12.0,>=0.11.0->llama-index-llms-mistralai) (1.3.1)\n",
            "Requirement already satisfied: h11<0.15,>=0.13 in /usr/local/lib/python3.10/dist-packages (from httpcore==1.*->httpx->llama-index-core<0.12.0,>=0.11.0->llama-index-llms-mistralai) (0.14.0)\n",
            "Requirement already satisfied: click in /usr/local/lib/python3.10/dist-packages (from nltk>3.8.1->llama-index-core<0.12.0,>=0.11.0->llama-index-llms-mistralai) (8.1.7)\n",
            "Requirement already satisfied: joblib in /usr/local/lib/python3.10/dist-packages (from nltk>3.8.1->llama-index-core<0.12.0,>=0.11.0->llama-index-llms-mistralai) (1.4.2)\n",
            "Requirement already satisfied: regex>=2021.8.3 in /usr/local/lib/python3.10/dist-packages (from nltk>3.8.1->llama-index-core<0.12.0,>=0.11.0->llama-index-llms-mistralai) (2024.9.11)\n",
            "Requirement already satisfied: annotated-types>=0.6.0 in /usr/local/lib/python3.10/dist-packages (from pydantic<3.0.0,>=2.7.0->llama-index-core<0.12.0,>=0.11.0->llama-index-llms-mistralai) (0.7.0)\n",
            "Requirement already satisfied: pydantic-core==2.23.3 in /usr/local/lib/python3.10/dist-packages (from pydantic<3.0.0,>=2.7.0->llama-index-core<0.12.0,>=0.11.0->llama-index-llms-mistralai) (2.23.3)\n",
            "Requirement already satisfied: charset-normalizer<4,>=2 in /usr/local/lib/python3.10/dist-packages (from requests>=2.31.0->llama-index-core<0.12.0,>=0.11.0->llama-index-llms-mistralai) (3.3.2)\n",
            "Requirement already satisfied: urllib3<3,>=1.21.1 in /usr/local/lib/python3.10/dist-packages (from requests>=2.31.0->llama-index-core<0.12.0,>=0.11.0->llama-index-llms-mistralai) (2.0.7)\n",
            "Requirement already satisfied: greenlet!=0.4.17 in /usr/local/lib/python3.10/dist-packages (from SQLAlchemy>=1.4.49->SQLAlchemy[asyncio]>=1.4.49->llama-index-core<0.12.0,>=0.11.0->llama-index-llms-mistralai) (3.1.0)\n",
            "Requirement already satisfied: mypy-extensions>=0.3.0 in /usr/local/lib/python3.10/dist-packages (from typing-inspect>=0.8.0->llama-index-core<0.12.0,>=0.11.0->llama-index-llms-mistralai) (1.0.0)\n",
            "Requirement already satisfied: marshmallow<4.0.0,>=3.18.0 in /usr/local/lib/python3.10/dist-packages (from dataclasses-json->llama-index-core<0.12.0,>=0.11.0->llama-index-llms-mistralai) (3.22.0)\n",
            "Requirement already satisfied: packaging>=17.0 in /usr/local/lib/python3.10/dist-packages (from marshmallow<4.0.0,>=3.18.0->dataclasses-json->llama-index-core<0.12.0,>=0.11.0->llama-index-llms-mistralai) (24.1)\n",
            "Requirement already satisfied: exceptiongroup in /usr/local/lib/python3.10/dist-packages (from anyio->httpx->llama-index-core<0.12.0,>=0.11.0->llama-index-llms-mistralai) (1.2.2)\n",
            "Requirement already satisfied: llama-index-embeddings-huggingface in /usr/local/lib/python3.10/dist-packages (0.3.1)\n",
            "Requirement already satisfied: huggingface-hub>=0.19.0 in /usr/local/lib/python3.10/dist-packages (from huggingface-hub[inference]>=0.19.0->llama-index-embeddings-huggingface) (0.24.7)\n",
            "Requirement already satisfied: llama-index-core<0.12.0,>=0.11.0 in /usr/local/lib/python3.10/dist-packages (from llama-index-embeddings-huggingface) (0.11.10)\n",
            "Requirement already satisfied: sentence-transformers>=2.6.1 in /usr/local/lib/python3.10/dist-packages (from llama-index-embeddings-huggingface) (2.7.0)\n",
            "Requirement already satisfied: filelock in /usr/local/lib/python3.10/dist-packages (from huggingface-hub>=0.19.0->huggingface-hub[inference]>=0.19.0->llama-index-embeddings-huggingface) (3.16.0)\n",
            "Requirement already satisfied: fsspec>=2023.5.0 in /usr/local/lib/python3.10/dist-packages (from huggingface-hub>=0.19.0->huggingface-hub[inference]>=0.19.0->llama-index-embeddings-huggingface) (2024.6.1)\n",
            "Requirement already satisfied: packaging>=20.9 in /usr/local/lib/python3.10/dist-packages (from huggingface-hub>=0.19.0->huggingface-hub[inference]>=0.19.0->llama-index-embeddings-huggingface) (24.1)\n",
            "Requirement already satisfied: pyyaml>=5.1 in /usr/local/lib/python3.10/dist-packages (from huggingface-hub>=0.19.0->huggingface-hub[inference]>=0.19.0->llama-index-embeddings-huggingface) (6.0.2)\n",
            "Requirement already satisfied: requests in /usr/local/lib/python3.10/dist-packages (from huggingface-hub>=0.19.0->huggingface-hub[inference]>=0.19.0->llama-index-embeddings-huggingface) (2.32.3)\n",
            "Requirement already satisfied: tqdm>=4.42.1 in /usr/local/lib/python3.10/dist-packages (from huggingface-hub>=0.19.0->huggingface-hub[inference]>=0.19.0->llama-index-embeddings-huggingface) (4.66.5)\n",
            "Requirement already satisfied: typing-extensions>=3.7.4.3 in /usr/local/lib/python3.10/dist-packages (from huggingface-hub>=0.19.0->huggingface-hub[inference]>=0.19.0->llama-index-embeddings-huggingface) (4.12.2)\n",
            "Requirement already satisfied: aiohttp in /usr/local/lib/python3.10/dist-packages (from huggingface-hub[inference]>=0.19.0->llama-index-embeddings-huggingface) (3.10.5)\n",
            "Requirement already satisfied: minijinja>=1.0 in /usr/local/lib/python3.10/dist-packages (from huggingface-hub[inference]>=0.19.0->llama-index-embeddings-huggingface) (2.2.0)\n",
            "Requirement already satisfied: SQLAlchemy>=1.4.49 in /usr/local/lib/python3.10/dist-packages (from SQLAlchemy[asyncio]>=1.4.49->llama-index-core<0.12.0,>=0.11.0->llama-index-embeddings-huggingface) (2.0.34)\n",
            "Requirement already satisfied: dataclasses-json in /usr/local/lib/python3.10/dist-packages (from llama-index-core<0.12.0,>=0.11.0->llama-index-embeddings-huggingface) (0.6.7)\n",
            "Requirement already satisfied: deprecated>=1.2.9.3 in /usr/local/lib/python3.10/dist-packages (from llama-index-core<0.12.0,>=0.11.0->llama-index-embeddings-huggingface) (1.2.14)\n",
            "Requirement already satisfied: dirtyjson<2.0.0,>=1.0.8 in /usr/local/lib/python3.10/dist-packages (from llama-index-core<0.12.0,>=0.11.0->llama-index-embeddings-huggingface) (1.0.8)\n",
            "Requirement already satisfied: httpx in /usr/local/lib/python3.10/dist-packages (from llama-index-core<0.12.0,>=0.11.0->llama-index-embeddings-huggingface) (0.27.2)\n",
            "Requirement already satisfied: nest-asyncio<2.0.0,>=1.5.8 in /usr/local/lib/python3.10/dist-packages (from llama-index-core<0.12.0,>=0.11.0->llama-index-embeddings-huggingface) (1.6.0)\n",
            "Requirement already satisfied: networkx>=3.0 in /usr/local/lib/python3.10/dist-packages (from llama-index-core<0.12.0,>=0.11.0->llama-index-embeddings-huggingface) (3.3)\n",
            "Requirement already satisfied: nltk>3.8.1 in /usr/local/lib/python3.10/dist-packages (from llama-index-core<0.12.0,>=0.11.0->llama-index-embeddings-huggingface) (3.9.1)\n",
            "Requirement already satisfied: numpy<2.0.0 in /usr/local/lib/python3.10/dist-packages (from llama-index-core<0.12.0,>=0.11.0->llama-index-embeddings-huggingface) (1.26.4)\n",
            "Requirement already satisfied: pillow>=9.0.0 in /usr/local/lib/python3.10/dist-packages (from llama-index-core<0.12.0,>=0.11.0->llama-index-embeddings-huggingface) (10.4.0)\n",
            "Requirement already satisfied: pydantic<3.0.0,>=2.7.0 in /usr/local/lib/python3.10/dist-packages (from llama-index-core<0.12.0,>=0.11.0->llama-index-embeddings-huggingface) (2.9.1)\n",
            "Requirement already satisfied: tenacity!=8.4.0,<9.0.0,>=8.2.0 in /usr/local/lib/python3.10/dist-packages (from llama-index-core<0.12.0,>=0.11.0->llama-index-embeddings-huggingface) (8.5.0)\n",
            "Requirement already satisfied: tiktoken>=0.3.3 in /usr/local/lib/python3.10/dist-packages (from llama-index-core<0.12.0,>=0.11.0->llama-index-embeddings-huggingface) (0.7.0)\n",
            "Requirement already satisfied: typing-inspect>=0.8.0 in /usr/local/lib/python3.10/dist-packages (from llama-index-core<0.12.0,>=0.11.0->llama-index-embeddings-huggingface) (0.9.0)\n",
            "Requirement already satisfied: wrapt in /usr/local/lib/python3.10/dist-packages (from llama-index-core<0.12.0,>=0.11.0->llama-index-embeddings-huggingface) (1.16.0)\n",
            "Requirement already satisfied: transformers<5.0.0,>=4.34.0 in /usr/local/lib/python3.10/dist-packages (from sentence-transformers>=2.6.1->llama-index-embeddings-huggingface) (4.44.2)\n",
            "Requirement already satisfied: torch>=1.11.0 in /usr/local/lib/python3.10/dist-packages (from sentence-transformers>=2.6.1->llama-index-embeddings-huggingface) (2.4.0+cu121)\n",
            "Requirement already satisfied: scikit-learn in /usr/local/lib/python3.10/dist-packages (from sentence-transformers>=2.6.1->llama-index-embeddings-huggingface) (1.3.2)\n",
            "Requirement already satisfied: scipy in /usr/local/lib/python3.10/dist-packages (from sentence-transformers>=2.6.1->llama-index-embeddings-huggingface) (1.13.1)\n",
            "Requirement already satisfied: aiohappyeyeballs>=2.3.0 in /usr/local/lib/python3.10/dist-packages (from aiohttp->huggingface-hub[inference]>=0.19.0->llama-index-embeddings-huggingface) (2.4.0)\n",
            "Requirement already satisfied: aiosignal>=1.1.2 in /usr/local/lib/python3.10/dist-packages (from aiohttp->huggingface-hub[inference]>=0.19.0->llama-index-embeddings-huggingface) (1.3.1)\n",
            "Requirement already satisfied: attrs>=17.3.0 in /usr/local/lib/python3.10/dist-packages (from aiohttp->huggingface-hub[inference]>=0.19.0->llama-index-embeddings-huggingface) (24.2.0)\n",
            "Requirement already satisfied: frozenlist>=1.1.1 in /usr/local/lib/python3.10/dist-packages (from aiohttp->huggingface-hub[inference]>=0.19.0->llama-index-embeddings-huggingface) (1.4.1)\n",
            "Requirement already satisfied: multidict<7.0,>=4.5 in /usr/local/lib/python3.10/dist-packages (from aiohttp->huggingface-hub[inference]>=0.19.0->llama-index-embeddings-huggingface) (6.1.0)\n",
            "Requirement already satisfied: yarl<2.0,>=1.0 in /usr/local/lib/python3.10/dist-packages (from aiohttp->huggingface-hub[inference]>=0.19.0->llama-index-embeddings-huggingface) (1.11.1)\n",
            "Requirement already satisfied: async-timeout<5.0,>=4.0 in /usr/local/lib/python3.10/dist-packages (from aiohttp->huggingface-hub[inference]>=0.19.0->llama-index-embeddings-huggingface) (4.0.3)\n",
            "Requirement already satisfied: click in /usr/local/lib/python3.10/dist-packages (from nltk>3.8.1->llama-index-core<0.12.0,>=0.11.0->llama-index-embeddings-huggingface) (8.1.7)\n",
            "Requirement already satisfied: joblib in /usr/local/lib/python3.10/dist-packages (from nltk>3.8.1->llama-index-core<0.12.0,>=0.11.0->llama-index-embeddings-huggingface) (1.4.2)\n",
            "Requirement already satisfied: regex>=2021.8.3 in /usr/local/lib/python3.10/dist-packages (from nltk>3.8.1->llama-index-core<0.12.0,>=0.11.0->llama-index-embeddings-huggingface) (2024.9.11)\n",
            "Requirement already satisfied: annotated-types>=0.6.0 in /usr/local/lib/python3.10/dist-packages (from pydantic<3.0.0,>=2.7.0->llama-index-core<0.12.0,>=0.11.0->llama-index-embeddings-huggingface) (0.7.0)\n",
            "Requirement already satisfied: pydantic-core==2.23.3 in /usr/local/lib/python3.10/dist-packages (from pydantic<3.0.0,>=2.7.0->llama-index-core<0.12.0,>=0.11.0->llama-index-embeddings-huggingface) (2.23.3)\n",
            "Requirement already satisfied: charset-normalizer<4,>=2 in /usr/local/lib/python3.10/dist-packages (from requests->huggingface-hub>=0.19.0->huggingface-hub[inference]>=0.19.0->llama-index-embeddings-huggingface) (3.3.2)\n",
            "Requirement already satisfied: idna<4,>=2.5 in /usr/local/lib/python3.10/dist-packages (from requests->huggingface-hub>=0.19.0->huggingface-hub[inference]>=0.19.0->llama-index-embeddings-huggingface) (3.10)\n",
            "Requirement already satisfied: urllib3<3,>=1.21.1 in /usr/local/lib/python3.10/dist-packages (from requests->huggingface-hub>=0.19.0->huggingface-hub[inference]>=0.19.0->llama-index-embeddings-huggingface) (2.0.7)\n",
            "Requirement already satisfied: certifi>=2017.4.17 in /usr/local/lib/python3.10/dist-packages (from requests->huggingface-hub>=0.19.0->huggingface-hub[inference]>=0.19.0->llama-index-embeddings-huggingface) (2024.8.30)\n",
            "Requirement already satisfied: greenlet!=0.4.17 in /usr/local/lib/python3.10/dist-packages (from SQLAlchemy>=1.4.49->SQLAlchemy[asyncio]>=1.4.49->llama-index-core<0.12.0,>=0.11.0->llama-index-embeddings-huggingface) (3.1.0)\n",
            "Requirement already satisfied: sympy in /usr/local/lib/python3.10/dist-packages (from torch>=1.11.0->sentence-transformers>=2.6.1->llama-index-embeddings-huggingface) (1.13.2)\n",
            "Requirement already satisfied: jinja2 in /usr/local/lib/python3.10/dist-packages (from torch>=1.11.0->sentence-transformers>=2.6.1->llama-index-embeddings-huggingface) (3.1.4)\n",
            "Requirement already satisfied: safetensors>=0.4.1 in /usr/local/lib/python3.10/dist-packages (from transformers<5.0.0,>=4.34.0->sentence-transformers>=2.6.1->llama-index-embeddings-huggingface) (0.4.5)\n",
            "Requirement already satisfied: tokenizers<0.20,>=0.19 in /usr/local/lib/python3.10/dist-packages (from transformers<5.0.0,>=4.34.0->sentence-transformers>=2.6.1->llama-index-embeddings-huggingface) (0.19.1)\n",
            "Requirement already satisfied: mypy-extensions>=0.3.0 in /usr/local/lib/python3.10/dist-packages (from typing-inspect>=0.8.0->llama-index-core<0.12.0,>=0.11.0->llama-index-embeddings-huggingface) (1.0.0)\n",
            "Requirement already satisfied: marshmallow<4.0.0,>=3.18.0 in /usr/local/lib/python3.10/dist-packages (from dataclasses-json->llama-index-core<0.12.0,>=0.11.0->llama-index-embeddings-huggingface) (3.22.0)\n",
            "Requirement already satisfied: anyio in /usr/local/lib/python3.10/dist-packages (from httpx->llama-index-core<0.12.0,>=0.11.0->llama-index-embeddings-huggingface) (3.7.1)\n",
            "Requirement already satisfied: httpcore==1.* in /usr/local/lib/python3.10/dist-packages (from httpx->llama-index-core<0.12.0,>=0.11.0->llama-index-embeddings-huggingface) (1.0.5)\n",
            "Requirement already satisfied: sniffio in /usr/local/lib/python3.10/dist-packages (from httpx->llama-index-core<0.12.0,>=0.11.0->llama-index-embeddings-huggingface) (1.3.1)\n",
            "Requirement already satisfied: h11<0.15,>=0.13 in /usr/local/lib/python3.10/dist-packages (from httpcore==1.*->httpx->llama-index-core<0.12.0,>=0.11.0->llama-index-embeddings-huggingface) (0.14.0)\n",
            "Requirement already satisfied: threadpoolctl>=2.0.0 in /usr/local/lib/python3.10/dist-packages (from scikit-learn->sentence-transformers>=2.6.1->llama-index-embeddings-huggingface) (3.5.0)\n",
            "Requirement already satisfied: exceptiongroup in /usr/local/lib/python3.10/dist-packages (from anyio->httpx->llama-index-core<0.12.0,>=0.11.0->llama-index-embeddings-huggingface) (1.2.2)\n",
            "Requirement already satisfied: MarkupSafe>=2.0 in /usr/local/lib/python3.10/dist-packages (from jinja2->torch>=1.11.0->sentence-transformers>=2.6.1->llama-index-embeddings-huggingface) (2.1.5)\n",
            "Requirement already satisfied: mpmath<1.4,>=1.1.0 in /usr/local/lib/python3.10/dist-packages (from sympy->torch>=1.11.0->sentence-transformers>=2.6.1->llama-index-embeddings-huggingface) (1.3.0)\n",
            "Requirement already satisfied: llama-index-embeddings-instructor in /usr/local/lib/python3.10/dist-packages (0.2.1)\n",
            "Requirement already satisfied: instructorembedding<2.0.0,>=1.0.1 in /usr/local/lib/python3.10/dist-packages (from llama-index-embeddings-instructor) (1.0.1)\n",
            "Requirement already satisfied: llama-index-core<0.12.0,>=0.11.0 in /usr/local/lib/python3.10/dist-packages (from llama-index-embeddings-instructor) (0.11.10)\n",
            "Requirement already satisfied: sentence-transformers<3.0.0,>=2.2.2 in /usr/local/lib/python3.10/dist-packages (from llama-index-embeddings-instructor) (2.7.0)\n",
            "Requirement already satisfied: torch<3.0.0,>=2.1.2 in /usr/local/lib/python3.10/dist-packages (from llama-index-embeddings-instructor) (2.4.0+cu121)\n",
            "Requirement already satisfied: PyYAML>=6.0.1 in /usr/local/lib/python3.10/dist-packages (from llama-index-core<0.12.0,>=0.11.0->llama-index-embeddings-instructor) (6.0.2)\n",
            "Requirement already satisfied: SQLAlchemy>=1.4.49 in /usr/local/lib/python3.10/dist-packages (from SQLAlchemy[asyncio]>=1.4.49->llama-index-core<0.12.0,>=0.11.0->llama-index-embeddings-instructor) (2.0.34)\n",
            "Requirement already satisfied: aiohttp<4.0.0,>=3.8.6 in /usr/local/lib/python3.10/dist-packages (from llama-index-core<0.12.0,>=0.11.0->llama-index-embeddings-instructor) (3.10.5)\n",
            "Requirement already satisfied: dataclasses-json in /usr/local/lib/python3.10/dist-packages (from llama-index-core<0.12.0,>=0.11.0->llama-index-embeddings-instructor) (0.6.7)\n",
            "Requirement already satisfied: deprecated>=1.2.9.3 in /usr/local/lib/python3.10/dist-packages (from llama-index-core<0.12.0,>=0.11.0->llama-index-embeddings-instructor) (1.2.14)\n",
            "Requirement already satisfied: dirtyjson<2.0.0,>=1.0.8 in /usr/local/lib/python3.10/dist-packages (from llama-index-core<0.12.0,>=0.11.0->llama-index-embeddings-instructor) (1.0.8)\n",
            "Requirement already satisfied: fsspec>=2023.5.0 in /usr/local/lib/python3.10/dist-packages (from llama-index-core<0.12.0,>=0.11.0->llama-index-embeddings-instructor) (2024.6.1)\n",
            "Requirement already satisfied: httpx in /usr/local/lib/python3.10/dist-packages (from llama-index-core<0.12.0,>=0.11.0->llama-index-embeddings-instructor) (0.27.2)\n",
            "Requirement already satisfied: nest-asyncio<2.0.0,>=1.5.8 in /usr/local/lib/python3.10/dist-packages (from llama-index-core<0.12.0,>=0.11.0->llama-index-embeddings-instructor) (1.6.0)\n",
            "Requirement already satisfied: networkx>=3.0 in /usr/local/lib/python3.10/dist-packages (from llama-index-core<0.12.0,>=0.11.0->llama-index-embeddings-instructor) (3.3)\n",
            "Requirement already satisfied: nltk>3.8.1 in /usr/local/lib/python3.10/dist-packages (from llama-index-core<0.12.0,>=0.11.0->llama-index-embeddings-instructor) (3.9.1)\n",
            "Requirement already satisfied: numpy<2.0.0 in /usr/local/lib/python3.10/dist-packages (from llama-index-core<0.12.0,>=0.11.0->llama-index-embeddings-instructor) (1.26.4)\n",
            "Requirement already satisfied: pillow>=9.0.0 in /usr/local/lib/python3.10/dist-packages (from llama-index-core<0.12.0,>=0.11.0->llama-index-embeddings-instructor) (10.4.0)\n",
            "Requirement already satisfied: pydantic<3.0.0,>=2.7.0 in /usr/local/lib/python3.10/dist-packages (from llama-index-core<0.12.0,>=0.11.0->llama-index-embeddings-instructor) (2.9.1)\n",
            "Requirement already satisfied: requests>=2.31.0 in /usr/local/lib/python3.10/dist-packages (from llama-index-core<0.12.0,>=0.11.0->llama-index-embeddings-instructor) (2.32.3)\n",
            "Requirement already satisfied: tenacity!=8.4.0,<9.0.0,>=8.2.0 in /usr/local/lib/python3.10/dist-packages (from llama-index-core<0.12.0,>=0.11.0->llama-index-embeddings-instructor) (8.5.0)\n",
            "Requirement already satisfied: tiktoken>=0.3.3 in /usr/local/lib/python3.10/dist-packages (from llama-index-core<0.12.0,>=0.11.0->llama-index-embeddings-instructor) (0.7.0)\n",
            "Requirement already satisfied: tqdm<5.0.0,>=4.66.1 in /usr/local/lib/python3.10/dist-packages (from llama-index-core<0.12.0,>=0.11.0->llama-index-embeddings-instructor) (4.66.5)\n",
            "Requirement already satisfied: typing-extensions>=4.5.0 in /usr/local/lib/python3.10/dist-packages (from llama-index-core<0.12.0,>=0.11.0->llama-index-embeddings-instructor) (4.12.2)\n",
            "Requirement already satisfied: typing-inspect>=0.8.0 in /usr/local/lib/python3.10/dist-packages (from llama-index-core<0.12.0,>=0.11.0->llama-index-embeddings-instructor) (0.9.0)\n",
            "Requirement already satisfied: wrapt in /usr/local/lib/python3.10/dist-packages (from llama-index-core<0.12.0,>=0.11.0->llama-index-embeddings-instructor) (1.16.0)\n",
            "Requirement already satisfied: transformers<5.0.0,>=4.34.0 in /usr/local/lib/python3.10/dist-packages (from sentence-transformers<3.0.0,>=2.2.2->llama-index-embeddings-instructor) (4.44.2)\n",
            "Requirement already satisfied: scikit-learn in /usr/local/lib/python3.10/dist-packages (from sentence-transformers<3.0.0,>=2.2.2->llama-index-embeddings-instructor) (1.3.2)\n",
            "Requirement already satisfied: scipy in /usr/local/lib/python3.10/dist-packages (from sentence-transformers<3.0.0,>=2.2.2->llama-index-embeddings-instructor) (1.13.1)\n",
            "Requirement already satisfied: huggingface-hub>=0.15.1 in /usr/local/lib/python3.10/dist-packages (from sentence-transformers<3.0.0,>=2.2.2->llama-index-embeddings-instructor) (0.24.7)\n",
            "Requirement already satisfied: filelock in /usr/local/lib/python3.10/dist-packages (from torch<3.0.0,>=2.1.2->llama-index-embeddings-instructor) (3.16.0)\n",
            "Requirement already satisfied: sympy in /usr/local/lib/python3.10/dist-packages (from torch<3.0.0,>=2.1.2->llama-index-embeddings-instructor) (1.13.2)\n",
            "Requirement already satisfied: jinja2 in /usr/local/lib/python3.10/dist-packages (from torch<3.0.0,>=2.1.2->llama-index-embeddings-instructor) (3.1.4)\n",
            "Requirement already satisfied: aiohappyeyeballs>=2.3.0 in /usr/local/lib/python3.10/dist-packages (from aiohttp<4.0.0,>=3.8.6->llama-index-core<0.12.0,>=0.11.0->llama-index-embeddings-instructor) (2.4.0)\n",
            "Requirement already satisfied: aiosignal>=1.1.2 in /usr/local/lib/python3.10/dist-packages (from aiohttp<4.0.0,>=3.8.6->llama-index-core<0.12.0,>=0.11.0->llama-index-embeddings-instructor) (1.3.1)\n",
            "Requirement already satisfied: attrs>=17.3.0 in /usr/local/lib/python3.10/dist-packages (from aiohttp<4.0.0,>=3.8.6->llama-index-core<0.12.0,>=0.11.0->llama-index-embeddings-instructor) (24.2.0)\n",
            "Requirement already satisfied: frozenlist>=1.1.1 in /usr/local/lib/python3.10/dist-packages (from aiohttp<4.0.0,>=3.8.6->llama-index-core<0.12.0,>=0.11.0->llama-index-embeddings-instructor) (1.4.1)\n",
            "Requirement already satisfied: multidict<7.0,>=4.5 in /usr/local/lib/python3.10/dist-packages (from aiohttp<4.0.0,>=3.8.6->llama-index-core<0.12.0,>=0.11.0->llama-index-embeddings-instructor) (6.1.0)\n",
            "Requirement already satisfied: yarl<2.0,>=1.0 in /usr/local/lib/python3.10/dist-packages (from aiohttp<4.0.0,>=3.8.6->llama-index-core<0.12.0,>=0.11.0->llama-index-embeddings-instructor) (1.11.1)\n",
            "Requirement already satisfied: async-timeout<5.0,>=4.0 in /usr/local/lib/python3.10/dist-packages (from aiohttp<4.0.0,>=3.8.6->llama-index-core<0.12.0,>=0.11.0->llama-index-embeddings-instructor) (4.0.3)\n",
            "Requirement already satisfied: packaging>=20.9 in /usr/local/lib/python3.10/dist-packages (from huggingface-hub>=0.15.1->sentence-transformers<3.0.0,>=2.2.2->llama-index-embeddings-instructor) (24.1)\n",
            "Requirement already satisfied: click in /usr/local/lib/python3.10/dist-packages (from nltk>3.8.1->llama-index-core<0.12.0,>=0.11.0->llama-index-embeddings-instructor) (8.1.7)\n",
            "Requirement already satisfied: joblib in /usr/local/lib/python3.10/dist-packages (from nltk>3.8.1->llama-index-core<0.12.0,>=0.11.0->llama-index-embeddings-instructor) (1.4.2)\n",
            "Requirement already satisfied: regex>=2021.8.3 in /usr/local/lib/python3.10/dist-packages (from nltk>3.8.1->llama-index-core<0.12.0,>=0.11.0->llama-index-embeddings-instructor) (2024.9.11)\n",
            "Requirement already satisfied: annotated-types>=0.6.0 in /usr/local/lib/python3.10/dist-packages (from pydantic<3.0.0,>=2.7.0->llama-index-core<0.12.0,>=0.11.0->llama-index-embeddings-instructor) (0.7.0)\n",
            "Requirement already satisfied: pydantic-core==2.23.3 in /usr/local/lib/python3.10/dist-packages (from pydantic<3.0.0,>=2.7.0->llama-index-core<0.12.0,>=0.11.0->llama-index-embeddings-instructor) (2.23.3)\n",
            "Requirement already satisfied: charset-normalizer<4,>=2 in /usr/local/lib/python3.10/dist-packages (from requests>=2.31.0->llama-index-core<0.12.0,>=0.11.0->llama-index-embeddings-instructor) (3.3.2)\n",
            "Requirement already satisfied: idna<4,>=2.5 in /usr/local/lib/python3.10/dist-packages (from requests>=2.31.0->llama-index-core<0.12.0,>=0.11.0->llama-index-embeddings-instructor) (3.10)\n",
            "Requirement already satisfied: urllib3<3,>=1.21.1 in /usr/local/lib/python3.10/dist-packages (from requests>=2.31.0->llama-index-core<0.12.0,>=0.11.0->llama-index-embeddings-instructor) (2.0.7)\n",
            "Requirement already satisfied: certifi>=2017.4.17 in /usr/local/lib/python3.10/dist-packages (from requests>=2.31.0->llama-index-core<0.12.0,>=0.11.0->llama-index-embeddings-instructor) (2024.8.30)\n",
            "Requirement already satisfied: greenlet!=0.4.17 in /usr/local/lib/python3.10/dist-packages (from SQLAlchemy>=1.4.49->SQLAlchemy[asyncio]>=1.4.49->llama-index-core<0.12.0,>=0.11.0->llama-index-embeddings-instructor) (3.1.0)\n",
            "Requirement already satisfied: safetensors>=0.4.1 in /usr/local/lib/python3.10/dist-packages (from transformers<5.0.0,>=4.34.0->sentence-transformers<3.0.0,>=2.2.2->llama-index-embeddings-instructor) (0.4.5)\n",
            "Requirement already satisfied: tokenizers<0.20,>=0.19 in /usr/local/lib/python3.10/dist-packages (from transformers<5.0.0,>=4.34.0->sentence-transformers<3.0.0,>=2.2.2->llama-index-embeddings-instructor) (0.19.1)\n",
            "Requirement already satisfied: mypy-extensions>=0.3.0 in /usr/local/lib/python3.10/dist-packages (from typing-inspect>=0.8.0->llama-index-core<0.12.0,>=0.11.0->llama-index-embeddings-instructor) (1.0.0)\n",
            "Requirement already satisfied: marshmallow<4.0.0,>=3.18.0 in /usr/local/lib/python3.10/dist-packages (from dataclasses-json->llama-index-core<0.12.0,>=0.11.0->llama-index-embeddings-instructor) (3.22.0)\n",
            "Requirement already satisfied: anyio in /usr/local/lib/python3.10/dist-packages (from httpx->llama-index-core<0.12.0,>=0.11.0->llama-index-embeddings-instructor) (3.7.1)\n",
            "Requirement already satisfied: httpcore==1.* in /usr/local/lib/python3.10/dist-packages (from httpx->llama-index-core<0.12.0,>=0.11.0->llama-index-embeddings-instructor) (1.0.5)\n",
            "Requirement already satisfied: sniffio in /usr/local/lib/python3.10/dist-packages (from httpx->llama-index-core<0.12.0,>=0.11.0->llama-index-embeddings-instructor) (1.3.1)\n",
            "Requirement already satisfied: h11<0.15,>=0.13 in /usr/local/lib/python3.10/dist-packages (from httpcore==1.*->httpx->llama-index-core<0.12.0,>=0.11.0->llama-index-embeddings-instructor) (0.14.0)\n",
            "Requirement already satisfied: MarkupSafe>=2.0 in /usr/local/lib/python3.10/dist-packages (from jinja2->torch<3.0.0,>=2.1.2->llama-index-embeddings-instructor) (2.1.5)\n",
            "Requirement already satisfied: threadpoolctl>=2.0.0 in /usr/local/lib/python3.10/dist-packages (from scikit-learn->sentence-transformers<3.0.0,>=2.2.2->llama-index-embeddings-instructor) (3.5.0)\n",
            "Requirement already satisfied: mpmath<1.4,>=1.1.0 in /usr/local/lib/python3.10/dist-packages (from sympy->torch<3.0.0,>=2.1.2->llama-index-embeddings-instructor) (1.3.0)\n",
            "Requirement already satisfied: exceptiongroup in /usr/local/lib/python3.10/dist-packages (from anyio->httpx->llama-index-core<0.12.0,>=0.11.0->llama-index-embeddings-instructor) (1.2.2)\n"
          ]
        }
      ],
      "source": [
        "%pip install llama-index-agent-lats\n",
        "%pip install llama-index-core llama-index-readers-file\n",
        "%pip install llama-index-llms-mistralai\n",
        "%pip install llama-index-embeddings-huggingface\n",
        "%pip install llama-index-embeddings-instructor\n"
      ]
    },
    {
      "cell_type": "markdown",
      "id": "dd3eedb4-40dc-4fb7-91ed-4383bccf76da",
      "metadata": {
        "id": "dd3eedb4-40dc-4fb7-91ed-4383bccf76da"
      },
      "source": [
        "### Define Global Settings"
      ]
    },
    {
      "cell_type": "code",
      "execution_count": 60,
      "id": "4aff64ec",
      "metadata": {
        "id": "4aff64ec"
      },
      "outputs": [],
      "source": [
        "import os\n",
        "\n",
        "os.environ[\"MISTRAL_API_KEY\"] = \"iTDzYt5Htod7uyGjt5caLPfG899UQHju\"\n",
        "\n",
        "import nest_asyncio\n",
        "\n",
        "nest_asyncio.apply()"
      ]
    },
    {
      "cell_type": "code",
      "execution_count": 61,
      "id": "1741a46b-e315-4c94-aede-6b8dbd852b40",
      "metadata": {
        "id": "1741a46b-e315-4c94-aede-6b8dbd852b40"
      },
      "outputs": [],
      "source": [
        "from llama_index.llms.mistralai import MistralAI\n",
        "from llama_index.embeddings.huggingface import HuggingFaceEmbedding\n",
        "from llama_index.core import Settings\n",
        "\n",
        "# NOTE: a higher temperate will help make the tree-expansion more diverse\n",
        "llm = MistralAI(api_key=os.environ.get(\"MISTRAL_API_KEY\"))\n",
        "embed_model = HuggingFaceEmbedding(model_name=\"BAAI/bge-small-en-v1.5\")\n",
        "\n",
        "Settings.llm = llm\n",
        "Settings.embed_model = embed_model"
      ]
    },
    {
      "cell_type": "markdown",
      "id": "24573f4b-0690-43c1-b255-890767ab4c83",
      "metadata": {
        "id": "24573f4b-0690-43c1-b255-890767ab4c83"
      },
      "source": [
        "### Download Data"
      ]
    },
    {
      "cell_type": "code",
      "execution_count": 6,
      "id": "acab086b-0cdf-48f1-9fae-ba67209806ef",
      "metadata": {
        "colab": {
          "base_uri": "https://localhost:8080/"
        },
        "id": "acab086b-0cdf-48f1-9fae-ba67209806ef",
        "outputId": "b5a38456-8938-47db-c1eb-a61935f3afec"
      },
      "outputs": [
        {
          "output_type": "stream",
          "name": "stdout",
          "text": [
            "--2024-09-19 05:26:25--  https://raw.githubusercontent.com/run-llama/llama_index/main/docs/docs/examples/data/10k/uber_2021.pdf\n",
            "Resolving raw.githubusercontent.com (raw.githubusercontent.com)... 185.199.108.133, 185.199.109.133, 185.199.110.133, ...\n",
            "Connecting to raw.githubusercontent.com (raw.githubusercontent.com)|185.199.108.133|:443... connected.\n",
            "HTTP request sent, awaiting response... 200 OK\n",
            "Length: 1880483 (1.8M) [application/octet-stream]\n",
            "Saving to: ‘data/10k/uber_2021.pdf’\n",
            "\n",
            "data/10k/uber_2021. 100%[===================>]   1.79M  --.-KB/s    in 0.07s   \n",
            "\n",
            "2024-09-19 05:26:25 (25.3 MB/s) - ‘data/10k/uber_2021.pdf’ saved [1880483/1880483]\n",
            "\n",
            "--2024-09-19 05:26:25--  https://raw.githubusercontent.com/run-llama/llama_index/main/docs/docs/examples/data/10k/lyft_2021.pdf\n",
            "Resolving raw.githubusercontent.com (raw.githubusercontent.com)... 185.199.108.133, 185.199.109.133, 185.199.110.133, ...\n",
            "Connecting to raw.githubusercontent.com (raw.githubusercontent.com)|185.199.108.133|:443... connected.\n",
            "HTTP request sent, awaiting response... 200 OK\n",
            "Length: 1440303 (1.4M) [application/octet-stream]\n",
            "Saving to: ‘data/10k/lyft_2021.pdf’\n",
            "\n",
            "data/10k/lyft_2021. 100%[===================>]   1.37M  --.-KB/s    in 0.07s   \n",
            "\n",
            "2024-09-19 05:26:25 (20.1 MB/s) - ‘data/10k/lyft_2021.pdf’ saved [1440303/1440303]\n",
            "\n"
          ]
        }
      ],
      "source": [
        "!mkdir -p 'data/10k/'\n",
        "!wget 'https://raw.githubusercontent.com/run-llama/llama_index/main/docs/docs/examples/data/10k/uber_2021.pdf' -O 'data/10k/uber_2021.pdf'\n",
        "!wget 'https://raw.githubusercontent.com/run-llama/llama_index/main/docs/docs/examples/data/10k/lyft_2021.pdf' -O 'data/10k/lyft_2021.pdf'"
      ]
    },
    {
      "cell_type": "code",
      "execution_count": 63,
      "id": "85776882-364c-4164-9878-c80b7e26628e",
      "metadata": {
        "id": "85776882-364c-4164-9878-c80b7e26628e"
      },
      "outputs": [],
      "source": [
        "import os\n",
        "from llama_index.core import (\n",
        "    SimpleDirectoryReader,\n",
        "    VectorStoreIndex,\n",
        "    load_index_from_storage,\n",
        ")\n",
        "from llama_index.core.storage import StorageContext\n",
        "\n",
        "\n",
        "if not os.path.exists(\"./storage/lyft\"):\n",
        "    # load data\n",
        "    lyft_docs = SimpleDirectoryReader(\n",
        "        input_files=[\"./data/10k/lyft_2021.pdf\"]\n",
        "    ).load_data()\n",
        "    uber_docs = SimpleDirectoryReader(\n",
        "        input_files=[\"./data/10k/uber_2021.pdf\"]\n",
        "    ).load_data()\n",
        "\n",
        "    # build index\n",
        "    lyft_index = VectorStoreIndex.from_documents(lyft_docs)\n",
        "    uber_index = VectorStoreIndex.from_documents(uber_docs)\n",
        "\n",
        "    # persist index\n",
        "    lyft_index.storage_context.persist(persist_dir=\"./storage/lyft\")\n",
        "    uber_index.storage_context.persist(persist_dir=\"./storage/uber\")\n",
        "else:\n",
        "    storage_context = StorageContext.from_defaults(\n",
        "        persist_dir=\"./storage/lyft\"\n",
        "    )\n",
        "    lyft_index = load_index_from_storage(storage_context)\n",
        "\n",
        "    storage_context = StorageContext.from_defaults(\n",
        "        persist_dir=\"./storage/uber\"\n",
        "    )\n",
        "    uber_index = load_index_from_storage(storage_context)"
      ]
    },
    {
      "cell_type": "markdown",
      "id": "9473420d-cb85-406a-acc5-1f9a66d536c6",
      "metadata": {
        "id": "9473420d-cb85-406a-acc5-1f9a66d536c6"
      },
      "source": [
        "### Setup Tools"
      ]
    },
    {
      "cell_type": "code",
      "execution_count": 65,
      "id": "b4495859-f04b-4d8e-9dc0-05e7062de335",
      "metadata": {
        "id": "b4495859-f04b-4d8e-9dc0-05e7062de335"
      },
      "outputs": [],
      "source": [
        "lyft_engine = lyft_index.as_query_engine(similarity_top_k=3)\n",
        "uber_engine = uber_index.as_query_engine(similarity_top_k=3)"
      ]
    },
    {
      "cell_type": "code",
      "execution_count": 66,
      "id": "757645fd-679c-4a92-a2da-66f6dffaee24",
      "metadata": {
        "id": "757645fd-679c-4a92-a2da-66f6dffaee24"
      },
      "outputs": [],
      "source": [
        "from llama_index.core.tools import QueryEngineTool, ToolMetadata\n",
        "\n",
        "query_engine_tools = [\n",
        "    QueryEngineTool(\n",
        "        query_engine=lyft_engine,\n",
        "        metadata=ToolMetadata(\n",
        "            name=\"lyft_10k\",\n",
        "            description=(\n",
        "                \"Provides information about Lyft financials for year 2021. \"\n",
        "                \"Use a detailed plain text question as input to the tool. \"\n",
        "                \"The input is used to power a semantic search engine.\"\n",
        "            ),\n",
        "        ),\n",
        "    ),\n",
        "    QueryEngineTool(\n",
        "        query_engine=uber_engine,\n",
        "        metadata=ToolMetadata(\n",
        "            name=\"uber_10k\",\n",
        "            description=(\n",
        "                \"Provides information about Uber financials for year 2021. \"\n",
        "                \"Use a detailed plain text question as input to the tool. \"\n",
        "                \"The input is used to power a semantic search engine.\"\n",
        "            ),\n",
        "        ),\n",
        "    ),\n",
        "]"
      ]
    },
    {
      "cell_type": "markdown",
      "id": "bb60646b-d09b-41c4-b799-eaef0b5b8471",
      "metadata": {
        "id": "bb60646b-d09b-41c4-b799-eaef0b5b8471"
      },
      "source": [
        "## Setup Agent\n",
        "\n",
        "Now we can setup the LATS agent.\n",
        "\n",
        "Here, `num_expansions` refers to the number of possible sub-actions to explore under each node. `num_expansions=2` means we will explore to possible next-actions for every parent action.\n",
        "\n",
        "`max_rollouts` refers to how deep each exploration of the search space continues. `max_rollouts=5` means a maximum depth of 5 is explored in the tree."
      ]
    },
    {
      "cell_type": "code",
      "execution_count": 67,
      "id": "c1a09462-0695-43d3-b691-ff2320fdcf45",
      "metadata": {
        "id": "c1a09462-0695-43d3-b691-ff2320fdcf45"
      },
      "outputs": [],
      "source": [
        "from llama_index.agent.lats import LATSAgentWorker\n",
        "\n",
        "\n",
        "agent_worker = LATSAgentWorker.from_tools(\n",
        "    query_engine_tools,\n",
        "    llm=llm,\n",
        "    num_expansions=2,\n",
        "    max_rollouts=3,  # using -1 for unlimited rollouts\n",
        "    verbose=True,\n",
        ")\n",
        "agent = agent_worker.as_agent()\n"
      ]
    },
    {
      "cell_type": "markdown",
      "id": "e97241d1-0917-4e69-87d5-9c46af360cfd",
      "metadata": {
        "id": "e97241d1-0917-4e69-87d5-9c46af360cfd"
      },
      "source": [
        "## Run Some Queries\n",
        "\n",
        "First, lets use step-wise execution and the lower-level API to create and execute a task."
      ]
    },
    {
      "cell_type": "code",
      "execution_count": 70,
      "id": "70af4e0b-c89e-4a15-8308-68879558edf2",
      "metadata": {
        "id": "70af4e0b-c89e-4a15-8308-68879558edf2"
      },
      "outputs": [],
      "source": [
        "task = agent.create_task(\n",
        "    \"Given the risk factors of Uber and Lyft described in their 10K files, \"\n",
        "    \"which company is performing better? Please use concrete numbers to inform your decision.\"\n",
        ")"
      ]
    },
    {
      "cell_type": "code",
      "execution_count": 71,
      "id": "eccc109c-c443-40f6-be79-2264e5d97224",
      "metadata": {
        "colab": {
          "base_uri": "https://localhost:8080/"
        },
        "id": "eccc109c-c443-40f6-be79-2264e5d97224",
        "outputId": "2d1eb88d-dd30-4a78-80b0-5e9af82e05ea"
      },
      "outputs": [
        {
          "output_type": "stream",
          "name": "stdout",
          "text": [
            "\u001b[1;3;32m> Selecting node to expand: Observation: Given the risk factors of Uber and Lyft described in their 10K files, which company is performing better? Please use concrete numbers to inform your decision.\n",
            "\u001b[0m\u001b[1;3;33m> Got candidates: ['Retrieve the 10K files of Uber and Lyft.', 'Analyze the risk factors described in the 10K files of Uber and Lyft.']\n",
            "\u001b[0m=== Calling Function ===\n",
            "Calling function: lyft_10k with args: {\"input\": \"What are the risk factors described in Lyft's 10K for the year 2021?\"}\n",
            "=== Calling Function ===\n",
            "Calling function: uber_10k with args: {\"input\": \"Provide the financial performance of Uber for the year 2021.\"}\n",
            "=== Function Output ===\n",
            "Lyft's 10K for the year 2021 describes various risk factors, including general economic factors such as the impact of the COVID-19 pandemic, natural disasters, economic downturns, public health crises, and political crises, as well as general macroeconomic conditions. Operational factors include Lyft's limited operating history, financial performance and the ability to achieve or maintain profitability, competition in the industry, the unpredictability of results of operations, uncertainty regarding market growth, the ability to attract and retain qualified drivers and riders, insurance coverage and adequacy, autonomous vehicle technology development, reputation and brand management, illegal or improper activity of users, accuracy of background checks, changes to pricing practices, growth and development of the network of Light Vehicles, ability to manage growth, security and privacy breaches, reliance on third parties, operation of programs like Express Drive and Lyft Rentals, effective matching of riders for Shared and Shared Saver Rides, and the development of new offerings on the platform.\n",
            "=== Function Output ===\n",
            "For the year ended December 31, 2021, Uber reported a net loss including non-controlling interests of $570 million. The company's operations and support expenses increased by 3% to $1,877 million, while sales and marketing expenses increased by 34% to $4,789 million. Research and development expenses decreased by 7% to $2,054 million, and general and administrative expenses decreased by 13% to $2,316 million. Depreciation and amortization expenses increased by 57% to $902 million. The net cash used in operating activities was $445 million. In terms of investing activities, Uber used $1,201 million in cash, and for financing activities, the company had minimal cash inflows and outflows.\n",
            "\u001b[1;3;34m> Generated new reasoning step: Thought: The current language of the user is English. I need to use tools to retrieve the 10K files of Uber and Lyft to compare their financial performance.\n",
            "Action: uber_10k\n",
            "Action Input: {'input': 'Provide the financial performance of Uber for the year 2021.'}\n",
            "Observation: For the year ended December 31, 2021, Uber reported a net loss including non-controlling interests of $570 million. The company's operations and support expenses increased by 3% to $1,877 million, while sales and marketing expenses increased by 34% to $4,789 million. Research and development expenses decreased by 7% to $2,054 million, and general and administrative expenses decreased by 13% to $2,316 million. Depreciation and amortization expenses increased by 57% to $902 million. The net cash used in operating activities was $445 million. In terms of investing activities, Uber used $1,201 million in cash, and for financing activities, the company had minimal cash inflows and outflows.\n",
            "\u001b[0m\u001b[1;3;34m> Generated new reasoning step: Thought: The current language of the user is English. I need to use the tools to gather information about the financials and risk factors of Uber and Lyft for the year 2021.\n",
            "Action: lyft_10k\n",
            "Action Input: {'input': \"What are the risk factors described in Lyft's 10K for the year 2021?\"}\n",
            "Observation: Lyft's 10K for the year 2021 describes various risk factors, including general economic factors such as the impact of the COVID-19 pandemic, natural disasters, economic downturns, public health crises, and political crises, as well as general macroeconomic conditions. Operational factors include Lyft's limited operating history, financial performance and the ability to achieve or maintain profitability, competition in the industry, the unpredictability of results of operations, uncertainty regarding market growth, the ability to attract and retain qualified drivers and riders, insurance coverage and adequacy, autonomous vehicle technology development, reputation and brand management, illegal or improper activity of users, accuracy of background checks, changes to pricing practices, growth and development of the network of Light Vehicles, ability to manage growth, security and privacy breaches, reliance on third parties, operation of programs like Express Drive and Lyft Rentals, effective matching of riders for Shared and Shared Saver Rides, and the development of new offerings on the platform.\n",
            "\u001b[0m\u001b[1;3;38;5;200m> Evaluation for input Given the risk factors of Uber and Lyft described in their 10K files, which company is performing better? Please use concrete numbers to inform your decision.\n",
            ": score=8 is_done=False reasoning='The conversation is on the right track. The assistant has correctly identified the need to retrieve the 10K files of Uber and Lyft to compare their financial performance. The assistant has also correctly retrieved the financial performance of Uber for the year 2021. However, the assistant has not yet retrieved the financial performance of Lyft, so the conversation is not yet complete.'\n",
            "\n",
            "\u001b[0m\u001b[1;3;38;5;200m> Evaluation for input Given the risk factors of Uber and Lyft described in their 10K files, which company is performing better? Please use concrete numbers to inform your decision.\n",
            ": score=8 is_done=False reasoning=\"The assistant correctly identified the need to gather information about the financials and risk factors of Uber and Lyft for the year 2021. It then took the appropriate action to retrieve Lyft's 10K report for 2021 and successfully obtained the relevant information. However, the task is not yet complete as the assistant still needs to gather and analyze information about Uber's risk factors and compare the two companies' performance.\"\n",
            "\n",
            "\u001b[0m\u001b[1;3;32m> Got final response: I am still thinking.\n",
            "\u001b[0m"
          ]
        }
      ],
      "source": [
        "# run initial step\n",
        "step_output = agent.run_step(task.task_id)"
      ]
    },
    {
      "cell_type": "markdown",
      "id": "cd23900f",
      "metadata": {
        "id": "cd23900f"
      },
      "source": [
        "From the step output, we can inspect the task state"
      ]
    },
    {
      "cell_type": "code",
      "execution_count": 33,
      "id": "ca38642c-d23b-456d-b0eb-523c6310d595",
      "metadata": {
        "colab": {
          "base_uri": "https://localhost:8080/"
        },
        "id": "ca38642c-d23b-456d-b0eb-523c6310d595",
        "outputId": "06befcb2-51b0-4b60-ec2d-48d3a6bfe15d"
      },
      "outputs": [
        {
          "output_type": "stream",
          "name": "stdout",
          "text": [
            "observation='Given the risk factors of Uber and Lyft described in their 10K files, which company is performing better? Please use concrete numbers to inform your decision.' return_direct=False\n",
            "---------\n",
            "observation='Retrieve the 10K files of Uber and Lyft.' return_direct=False\n",
            "---------\n"
          ]
        }
      ],
      "source": [
        "for step in (\n",
        "    step_output.task_step.step_state[\"root_node\"].children[0].current_reasoning\n",
        "):\n",
        "    print(step)\n",
        "    print(\"---------\")"
      ]
    },
    {
      "cell_type": "code",
      "execution_count": 36,
      "id": "4abd442d",
      "metadata": {
        "colab": {
          "base_uri": "https://localhost:8080/"
        },
        "id": "4abd442d",
        "outputId": "f089ebe6-d5a7-4c37-825f-7af5de6894eb"
      },
      "outputs": [
        {
          "output_type": "stream",
          "name": "stdout",
          "text": [
            "observation='Given the risk factors of Uber and Lyft described in their 10K files, which company is performing better? Please use concrete numbers to inform your decision.' return_direct=False\n",
            "---------\n",
            "observation='Retrieve the 10K files of Uber and Lyft.' return_direct=False\n",
            "---------\n",
            "thought='The current language of the user is English. I need to use tools to retrieve the 10K files of Uber and Lyft to compare their performance.' action='uber_10k' action_input={'input': 'Provide the financial performance of Uber for the year 2021.'}\n",
            "---------\n",
            "observation=\"For the year ended December 31, 2021, Uber reported a net loss including non-controlling interests of $570 million. The company's operations and support expenses increased by 3% to $1,877 million, while sales and marketing expenses increased by 34% to $4,789 million. Research and development expenses decreased by 7% to $2,054 million, and general and administrative expenses decreased by 13% to $2,316 million. Depreciation and amortization expenses increased by 57% to $902 million. The net cash used in operating activities was $445 million, in investing activities was $1,201 million, and in financing activities was $80 million.\" return_direct=False\n",
            "---------\n"
          ]
        }
      ],
      "source": [
        "for step in (\n",
        "    step_output.task_step.step_state[\"root_node\"]\n",
        "    .children[0]\n",
        "    .children[0]\n",
        "    .current_reasoning\n",
        "):\n",
        "    print(step)\n",
        "    print(\"---------\")"
      ]
    },
    {
      "cell_type": "markdown",
      "id": "880b1221",
      "metadata": {
        "id": "880b1221"
      },
      "source": [
        "Lets loop until we finish the task"
      ]
    },
    {
      "cell_type": "code",
      "execution_count": null,
      "id": "aa9c988f-3e2e-4c6d-85bf-27b03ba88609",
      "metadata": {
        "id": "aa9c988f-3e2e-4c6d-85bf-27b03ba88609",
        "outputId": "bde4b8b4-d7b6-4d2d-c2c4-3b7cefc1dbb2"
      },
      "outputs": [
        {
          "name": "stdout",
          "output_type": "stream",
          "text": [
            "\u001b[1;3;32m> Selecting node to expand: Observation: Uber Technologies, Inc., in its 2021 financial statements, consolidates its wholly-owned and majority-owned subsidiaries, as well as variable interest entities where it is the primary beneficiary. The financial statements are prepared in accordance with GAAP, and management uses estimates and assumptions that affect reported financial figures, such as the fair values of investments, useful lives of assets, and reserves for income taxes and insurance, among others. These estimates consider the impact of the COVID-19 pandemic on market data and investment recoverability.\n",
            "\n",
            "Key financial risks for Uber include concentration of credit risk, where cash and other receivables are potentially subject to credit risk concentration. The company's cash, cash equivalents, and securities consist largely of high-credit-quality money market funds, U.S. government and agency securities, and corporate debt securities. Despite exceeding insured limits, these are placed with financial institutions that Uber assesses as having high credit quality. Uber has not reported material losses related to these concentrations during the periods presented. Additionally, Uber's performance and strategy involve forward-looking statements subject to various risks and uncertainties, which could materially affect actual results.\n",
            "\u001b[0m\u001b[1;3;33m> Got candidates: ['Review the 10K files of Lyft for similar financial data and risk factors.', 'Compare the financial data and risk factors of Uber with those of Lyft.']\n",
            "\u001b[0m=== Calling Function ===\n",
            "Calling function: lyft_10k with args: {\"input\": \"What are the key financial figures and risk factors for Lyft in 2021?\"}\n",
            "=== Calling Function ===\n",
            "Calling function: lyft_10k with args: {\"input\": \"What are the key financial figures and risk factors for Lyft in 2021?\"}\n",
            "=== Function Output ===\n",
            "In 2021, Lyft reported total revenue of $3,208,323,000, with the majority coming from contracts with customers ($2,957,979,000) and a smaller portion from rental revenue ($250,344,000). Financially, Lyft has faced challenges due to the COVID-19 pandemic, which significantly impacted their operations and revenue streams. The company experienced a decline in revenue in 2020 due to the pandemic and has only partially recovered, with revenue still below pre-COVID levels.\n",
            "\n",
            "Lyft has identified several risk factors that could affect its business, including the ability to forecast revenue, manage expenses, attract and retain drivers and riders, comply with new regulations, and handle the ongoing impacts of the COVID-19 pandemic. The company also faces risks from macroeconomic changes, maintaining their reputation, managing growth, and developing new platform features and services. Additionally, Lyft's financial performance is subject to uncertainties due to the evolving nature of the market and their business model, and there is no assurance of achieving or maintaining profitability in the future.\n",
            "=== Function Output ===\n",
            "In 2021, Lyft reported total revenues of $3,208,323,000. This revenue comprises $2,957,979,000 from contracts with customers under ASC 606, primarily from its ridesharing marketplace, and $250,344,000 in rental revenue under ASC 842 from its network of Light Vehicles and Lyft Rentals.\n",
            "\n",
            "Key risk factors for Lyft in 2021 include the ongoing impacts of the COVID-19 pandemic, which has led to significant operational adjustments and financial strain. The company's response to the pandemic included new health and safety requirements for ridesharing and adjustments to expenses and cash flow to match declines in revenue. The future impact of the pandemic remains uncertain and depends on various factors such as the duration of the pandemic, vaccine distribution and efficacy, government actions, and changes in consumer behavior.\n",
            "\n",
            "Additional risks include Lyft's ability to forecast revenue and manage expenses, attract and retain drivers and riders, comply with regulatory changes, manage capital expenditures, and maintain demand and confidence in the safety of its platform. The company also faces challenges related to maintaining profitability, with a history of net losses despite recent Adjusted EBITDA profitability. Moreover, Lyft plans significant investments in electric vehicles (EVs) to comply with regulations and sustainability goals, adding to its financial commitments.\n",
            "\u001b[1;3;34m> Generated new reasoning step: Thought: Having gathered the necessary information from Uber's 10K files, I now need to obtain similar financial data and risk factors from Lyft's 10K files to make a comparison.\n",
            "Action: lyft_10k\n",
            "Action Input: {'input': 'What are the key financial figures and risk factors for Lyft in 2021?'}\n",
            "Observation: In 2021, Lyft reported total revenue of $3,208,323,000, with the majority coming from contracts with customers ($2,957,979,000) and a smaller portion from rental revenue ($250,344,000). Financially, Lyft has faced challenges due to the COVID-19 pandemic, which significantly impacted their operations and revenue streams. The company experienced a decline in revenue in 2020 due to the pandemic and has only partially recovered, with revenue still below pre-COVID levels.\n",
            "\n",
            "Lyft has identified several risk factors that could affect its business, including the ability to forecast revenue, manage expenses, attract and retain drivers and riders, comply with new regulations, and handle the ongoing impacts of the COVID-19 pandemic. The company also faces risks from macroeconomic changes, maintaining their reputation, managing growth, and developing new platform features and services. Additionally, Lyft's financial performance is subject to uncertainties due to the evolving nature of the market and their business model, and there is no assurance of achieving or maintaining profitability in the future.\n",
            "\u001b[0m\u001b[1;3;34m> Generated new reasoning step: Thought: Now that I have information on Uber's financial data and risk factors, I need to retrieve similar information for Lyft from its 10K file to make a comparison.\n",
            "Action: lyft_10k\n",
            "Action Input: {'input': 'What are the key financial figures and risk factors for Lyft in 2021?'}\n",
            "Observation: In 2021, Lyft reported total revenues of $3,208,323,000. This revenue comprises $2,957,979,000 from contracts with customers under ASC 606, primarily from its ridesharing marketplace, and $250,344,000 in rental revenue under ASC 842 from its network of Light Vehicles and Lyft Rentals.\n",
            "\n",
            "Key risk factors for Lyft in 2021 include the ongoing impacts of the COVID-19 pandemic, which has led to significant operational adjustments and financial strain. The company's response to the pandemic included new health and safety requirements for ridesharing and adjustments to expenses and cash flow to match declines in revenue. The future impact of the pandemic remains uncertain and depends on various factors such as the duration of the pandemic, vaccine distribution and efficacy, government actions, and changes in consumer behavior.\n",
            "\n",
            "Additional risks include Lyft's ability to forecast revenue and manage expenses, attract and retain drivers and riders, comply with regulatory changes, manage capital expenditures, and maintain demand and confidence in the safety of its platform. The company also faces challenges related to maintaining profitability, with a history of net losses despite recent Adjusted EBITDA profitability. Moreover, Lyft plans significant investments in electric vehicles (EVs) to comply with regulations and sustainability goals, adding to its financial commitments.\n",
            "\u001b[0m\u001b[1;3;38;5;200m> Evaluation for input Given the risk factors of Uber and Lyft described in their 10K files, which company is performing better? Please use concrete numbers to inform your decision.\n",
            ": score=9 is_done=False reasoning=\"The conversation trajectory so far is highly correct in its approach towards answering the query about the comparative performance of Uber and Lyft based on their 10K files. The actions taken to extract key financial data and risk factors from both companies are directly relevant and necessary for making an informed comparison. The thought process is logically structured, beginning with the acquisition of Uber's data, followed by Lyft's, which aligns well with the methodical comparison required by the query.\\n\\nThe completeness of the answer is not yet achieved, as the final comparison between the two sets of data has not been made. However, the trajectory is on the correct path, as the necessary preliminary information has been gathered and the next logical step would be to analyze and compare these findings to conclude which company is performing better based on the data. The conversation is progressing correctly but needs to reach the analysis phase to provide a final answer.\"\n",
            "\n",
            "\u001b[0m\u001b[1;3;38;5;200m> Evaluation for input Given the risk factors of Uber and Lyft described in their 10K files, which company is performing better? Please use concrete numbers to inform your decision.\n",
            ": score=9 is_done=False reasoning=\"The conversation so far has correctly followed a logical approach to answering the query about which company, Uber or Lyft, is performing better based on their 10K files. The user has appropriately collected financial data and risk factors for both Uber and Lyft, which are essential for making a comparative analysis. The process involves extracting relevant financial data and risk factors from each company's 10K files, starting with Uber and then moving to Lyft. The observations from each company's 10K files have been noted, and the user is in the process of gathering all the necessary information before making a comparison.\\n\\nThe trajectory is correct in its approach, gathering all the relevant data before attempting to draw conclusions. However, it is not yet complete as the user has not yet compared the information between Uber and Lyft to determine which company is performing better. The final comparison and conclusion are necessary to complete the answer to the query.\"\n",
            "\n",
            "\u001b[0m\u001b[1;3;32m> Got final response: I am still thinking.\n",
            "\u001b[0m\u001b[1;3;32m> Selecting node to expand: Observation: In 2021, Lyft reported total revenue of $3,208,323,000, with the majority coming from contracts with customers ($2,957,979,000) and a smaller portion from rental revenue ($250,344,000). Financially, Lyft has faced challenges due to the COVID-19 pandemic, which significantly impacted their operations and revenue streams. The company experienced a decline in revenue in 2020 due to the pandemic and has only partially recovered, with revenue still below pre-COVID levels.\n",
            "\n",
            "Lyft has identified several risk factors that could affect its business, including the ability to forecast revenue, manage expenses, attract and retain drivers and riders, comply with new regulations, and handle the ongoing impacts of the COVID-19 pandemic. The company also faces risks from macroeconomic changes, maintaining their reputation, managing growth, and developing new platform features and services. Additionally, Lyft's financial performance is subject to uncertainties due to the evolving nature of the market and their business model, and there is no assurance of achieving or maintaining profitability in the future.\n",
            "\u001b[0m\u001b[1;3;33m> Got candidates: ['Prepare a comparative analysis of the financial data and risk factors for Uber and Lyft.', 'Summarize the key financial figures and risk factors for Uber and Lyft.']\n",
            "\u001b[0m\u001b[1;3;34m> Generated new reasoning step: Thought: I can answer without using any more tools. I'll use the user's language to answer.\n",
            "Answer: Based on the information provided from the 10K files of Uber and Lyft for 2021, here is a comparative analysis of their financial data and risk factors:\n",
            "\n",
            "**Financial Data:**\n",
            "1. **Uber** did not disclose specific revenue figures in the provided information, focusing more on their financial management practices and the quality of their financial instruments. They emphasized the high credit quality of their cash equivalents and securities, and the use of GAAP-compliant financial statements influenced by estimates considering the COVID-19 impact.\n",
            "   \n",
            "2. **Lyft** reported total revenue of $3,208,323,000 for 2021, with a significant drop due to the COVID-19 pandemic and a partial recovery, still below pre-pandemic levels. This gives a clear numeric insight into their financial status during the year.\n",
            "\n",
            "**Risk Factors:**\n",
            "1. **Uber's** key risk factors include concentration of credit risk, with their financial assets placed in high-credit-quality institutions, and various uncertainties that could affect their forward-looking statements and actual results. They manage risks related to their financial estimates and the broader economic impacts of the pandemic.\n",
            "\n",
            "2. **Lyft** faces risks related to revenue forecasting, expense management, driver and rider retention, regulatory compliance, and pandemic impacts. Additional risks include macroeconomic changes, reputation management, growth management, and innovation on their platform. They also express concerns about the uncertain market and their ability to achieve or maintain profitability.\n",
            "\n",
            "**Conclusion:**\n",
            "While Uber's discussion focuses on the management of high-quality financial assets and the broader implications of their financial estimates, Lyft provides more concrete financial results and a detailed list of operational and market risks. Lyft's explicit revenue figures and detailed risk enumeration offer a clearer picture of their financial health and challenges compared to Uber's more generalized financial overview. This analysis suggests that Lyft provides more transparency in their financial reporting, but also highlights more vulnerability in terms of revenue recovery and risk exposure compared to Uber.\n",
            "\u001b[0m\u001b[1;3;34m> Generated new reasoning step: Thought: I can answer without using any more tools. I'll use the user's language to answer.\n",
            "Answer: Uber's key financial considerations include the use of GAAP and the necessity of management's estimates which affect reported figures. Financial risks for Uber highlight a concentration of credit risk primarily in high-credit-quality money market funds, U.S. government and agency securities, and corporate debt securities. Despite the risks of exceeding insured limits, Uber has not reported significant losses in this area.\n",
            "\n",
            "Lyft reported a total revenue of $3.2 billion in 2021, with the majority from contracts with customers. The company has faced financial challenges due to the COVID-19 pandemic, which significantly impacted its operations and revenue, causing a decline in 2020 and a partial recovery in 2021. Risk factors for Lyft include the ability to forecast revenue, manage expenses, attract and retain drivers and riders, comply with new regulations, and handle the ongoing impacts of COVID-19. Lyft also faces risks from macroeconomic changes, reputation management, growth management, and uncertainties in achieving or maintaining profitability.\n",
            "\n",
            "Both companies deal with uncertainties and risks due to the COVID-19 pandemic and regulatory environments, but Uber's larger scale and diversified investment portfolio might provide it with a more robust financial base compared to Lyft, which is still struggling to recover to pre-COVID revenue levels and is facing numerous operational and market risks.\n",
            "\u001b[0m\u001b[1;3;38;5;200m> Evaluation for input Given the risk factors of Uber and Lyft described in their 10K files, which company is performing better? Please use concrete numbers to inform your decision.\n",
            ": score=10 is_done=True reasoning=\"The conversation trajectory effectively addresses the query by systematically gathering and comparing the financial data and risk factors from the 10K files of both Uber and Lyft. The process begins with a clear understanding of the task, followed by separate actions to retrieve the necessary information from each company's 10K files. The final comparative analysis is thorough, highlighting key financial figures and risk factors for both companies, and providing a reasoned conclusion on which company appears to be performing better based on the information available. This comprehensive approach ensures that the conversation correctly and completely answers the query as posed.\"\n",
            "\n",
            "\u001b[0m\u001b[1;3;38;5;200m> Evaluation for input Given the risk factors of Uber and Lyft described in their 10K files, which company is performing better? Please use concrete numbers to inform your decision.\n",
            ": score=9 is_done=True reasoning='The conversation accurately addresses the query by methodically obtaining and comparing the financial data and risk factors of Uber and Lyft from their respective 10K files. The process involved gathering specific financial figures and risk factors from Uber and then doing the same for Lyft. The final comparison effectively uses the gathered data to assess which company is performing better, focusing on financial stability, revenue impacts due to the pandemic, and broader risk factors affecting both companies. The answer is well-informed and directly addresses the query using the requested concrete numbers, leading to a reasoned conclusion that Uber might be performing better due to its diversified financial base and better recovery indicators. This conclusion is reached after a systematic and relevant examination of the necessary financial documents and data, thus fulfilling the requirements of correctness and completeness in the context of the query.'\n",
            "\n",
            "\u001b[0m\u001b[1;3;36m> Found solution node: Based on the information provided from the 10K files of Uber and Lyft for 2021, here is a comparative analysis of their financial data and risk factors:\n",
            "\n",
            "**Financial Data:**\n",
            "1. **Uber** did not disclose specific revenue figures in the provided information, focusing more on their financial management practices and the quality of their financial instruments. They emphasized the high credit quality of their cash equivalents and securities, and the use of GAAP-compliant financial statements influenced by estimates considering the COVID-19 impact.\n",
            "   \n",
            "2. **Lyft** reported total revenue of $3,208,323,000 for 2021, with a significant drop due to the COVID-19 pandemic and a partial recovery, still below pre-pandemic levels. This gives a clear numeric insight into their financial status during the year.\n",
            "\n",
            "**Risk Factors:**\n",
            "1. **Uber's** key risk factors include concentration of credit risk, with their financial assets placed in high-credit-quality institutions, and various uncertainties that could affect their forward-looking statements and actual results. They manage risks related to their financial estimates and the broader economic impacts of the pandemic.\n",
            "\n",
            "2. **Lyft** faces risks related to revenue forecasting, expense management, driver and rider retention, regulatory compliance, and pandemic impacts. Additional risks include macroeconomic changes, reputation management, growth management, and innovation on their platform. They also express concerns about the uncertain market and their ability to achieve or maintain profitability.\n",
            "\n",
            "**Conclusion:**\n",
            "While Uber's discussion focuses on the management of high-quality financial assets and the broader implications of their financial estimates, Lyft provides more concrete financial results and a detailed list of operational and market risks. Lyft's explicit revenue figures and detailed risk enumeration offer a clearer picture of their financial health and challenges compared to Uber's more generalized financial overview. This analysis suggests that Lyft provides more transparency in their financial reporting, but also highlights more vulnerability in terms of revenue recovery and risk exposure compared to Uber.\n",
            "\u001b[0m\u001b[1;3;36m> Found solution node: Uber's key financial considerations include the use of GAAP and the necessity of management's estimates which affect reported figures. Financial risks for Uber highlight a concentration of credit risk primarily in high-credit-quality money market funds, U.S. government and agency securities, and corporate debt securities. Despite the risks of exceeding insured limits, Uber has not reported significant losses in this area.\n",
            "\n",
            "Lyft reported a total revenue of $3.2 billion in 2021, with the majority from contracts with customers. The company has faced financial challenges due to the COVID-19 pandemic, which significantly impacted its operations and revenue, causing a decline in 2020 and a partial recovery in 2021. Risk factors for Lyft include the ability to forecast revenue, manage expenses, attract and retain drivers and riders, comply with new regulations, and handle the ongoing impacts of COVID-19. Lyft also faces risks from macroeconomic changes, reputation management, growth management, and uncertainties in achieving or maintaining profitability.\n",
            "\n",
            "Both companies deal with uncertainties and risks due to the COVID-19 pandemic and regulatory environments, but Uber's larger scale and diversified investment portfolio might provide it with a more robust financial base compared to Lyft, which is still struggling to recover to pre-COVID revenue levels and is facing numerous operational and market risks.\n",
            "\u001b[0m\u001b[1;3;32m> Got final response: Based on the information provided from the 10K files of Uber and Lyft for 2021, here is a comparative analysis of their financial data and risk factors:\n",
            "\n",
            "**Financial Data:**\n",
            "1. **Uber** did not disclose specific revenue figures in the provided information, focusing more on their financial management practices and the quality of their financial instruments. They emphasized the high credit quality of their cash equivalents and securities, and the use of GAAP-compliant financial statements influenced by estimates considering the COVID-19 impact.\n",
            "   \n",
            "2. **Lyft** reported total revenue of $3,208,323,000 for 2021, with a significant drop due to the COVID-19 pandemic and a partial recovery, still below pre-pandemic levels. This gives a clear numeric insight into their financial status during the year.\n",
            "\n",
            "**Risk Factors:**\n",
            "1. **Uber's** key risk factors include concentration of credit risk, with their financial assets placed in high-credit-quality institutions, and various uncertainties that could affect their forward-looking statements and actual results. They manage risks related to their financial estimates and the broader economic impacts of the pandemic.\n",
            "\n",
            "2. **Lyft** faces risks related to revenue forecasting, expense management, driver and rider retention, regulatory compliance, and pandemic impacts. Additional risks include macroeconomic changes, reputation management, growth management, and innovation on their platform. They also express concerns about the uncertain market and their ability to achieve or maintain profitability.\n",
            "\n",
            "**Conclusion:**\n",
            "While Uber's discussion focuses on the management of high-quality financial assets and the broader implications of their financial estimates, Lyft provides more concrete financial results and a detailed list of operational and market risks. Lyft's explicit revenue figures and detailed risk enumeration offer a clearer picture of their financial health and challenges compared to Uber's more generalized financial overview. This analysis suggests that Lyft provides more transparency in their financial reporting, but also highlights more vulnerability in terms of revenue recovery and risk exposure compared to Uber.\n",
            "\u001b[0m"
          ]
        }
      ],
      "source": [
        "# repeat until the last step is reached\n",
        "while not step_output.is_last:\n",
        "    step_output = agent.run_step(task.task_id)\n",
        "\n",
        "response = agent.finalize_response(task.task_id)"
      ]
    },
    {
      "cell_type": "code",
      "execution_count": null,
      "id": "8d4ebee0-1191-4630-8bdd-58d92721d514",
      "metadata": {
        "id": "8d4ebee0-1191-4630-8bdd-58d92721d514",
        "outputId": "218a377b-5f44-4ecd-9e0c-315b970f1852"
      },
      "outputs": [
        {
          "name": "stdout",
          "output_type": "stream",
          "text": [
            "Based on the information provided from the 10K files of Uber and Lyft for 2021, here is a comparative analysis of their financial data and risk factors:\n",
            "\n",
            "**Financial Data:**\n",
            "1. **Uber** did not disclose specific revenue figures in the provided information, focusing more on their financial management practices and the quality of their financial instruments. They emphasized the high credit quality of their cash equivalents and securities, and the use of GAAP-compliant financial statements influenced by estimates considering the COVID-19 impact.\n",
            "   \n",
            "2. **Lyft** reported total revenue of $3,208,323,000 for 2021, with a significant drop due to the COVID-19 pandemic and a partial recovery, still below pre-pandemic levels. This gives a clear numeric insight into their financial status during the year.\n",
            "\n",
            "**Risk Factors:**\n",
            "1. **Uber's** key risk factors include concentration of credit risk, with their financial assets placed in high-credit-quality institutions, and various uncertainties that could affect their forward-looking statements and actual results. They manage risks related to their financial estimates and the broader economic impacts of the pandemic.\n",
            "\n",
            "2. **Lyft** faces risks related to revenue forecasting, expense management, driver and rider retention, regulatory compliance, and pandemic impacts. Additional risks include macroeconomic changes, reputation management, growth management, and innovation on their platform. They also express concerns about the uncertain market and their ability to achieve or maintain profitability.\n",
            "\n",
            "**Conclusion:**\n",
            "While Uber's discussion focuses on the management of high-quality financial assets and the broader implications of their financial estimates, Lyft provides more concrete financial results and a detailed list of operational and market risks. Lyft's explicit revenue figures and detailed risk enumeration offer a clearer picture of their financial health and challenges compared to Uber's more generalized financial overview. This analysis suggests that Lyft provides more transparency in their financial reporting, but also highlights more vulnerability in terms of revenue recovery and risk exposure compared to Uber.\n"
          ]
        }
      ],
      "source": [
        "print(str(response))"
      ]
    },
    {
      "cell_type": "markdown",
      "id": "99293b4e",
      "metadata": {
        "id": "99293b4e"
      },
      "source": [
        "Using `.chat()` directly, we can have the agent automatically run until completion."
      ]
    },
    {
      "cell_type": "code",
      "execution_count": null,
      "id": "edbcc00a",
      "metadata": {
        "id": "edbcc00a",
        "outputId": "06c040b7-5401-4ccd-db8e-b373b387c8df"
      },
      "outputs": [
        {
          "name": "stdout",
          "output_type": "stream",
          "text": [
            "\u001b[1;3;32m> Selecting node to expand: Observation: Given the revenue growth and risk factors of Uber and Lyft, which company is performing better? Please use concrete numbers to inform your decision.\n",
            "\u001b[0m\u001b[1;3;33m> Got candidates: ['Review financial reports of Uber and Lyft for the latest fiscal year to compare revenue growth.', 'Analyze risk factors mentioned in the latest quarterly reports of Uber and Lyft.']\n",
            "\u001b[0m=== Calling Function ===\n",
            "Calling function: uber_10k with args: {\"input\": \"What was Uber's revenue growth for the fiscal year 2021?\"}\n",
            "=== Function Output ===\n",
            "Uber's revenue for the fiscal year 2021 was $17,455 million, which represents a growth of 57% compared to the revenue of $11,139 million in 2020.\n",
            "\u001b[1;3;34m> Generated new reasoning step: Thought: The current language of the user is English. I need to use tools to gather data on the revenue growth of Uber and Lyft for the latest fiscal year, which is 2021.\n",
            "Action: uber_10k\n",
            "Action Input: {'input': \"What was Uber's revenue growth for the fiscal year 2021?\"}\n",
            "Observation: Uber's revenue for the fiscal year 2021 was $17,455 million, which represents a growth of 57% compared to the revenue of $11,139 million in 2020.\n",
            "\u001b[0m\u001b[1;3;34m> Generated new reasoning step: Thought: The user asked for analysis of risk factors from the latest quarterly reports of Uber and Lyft. However, my tools provide information from the financial year 2021. I need to clarify this before proceeding.\n",
            "Answer: I can access financial information from the year 2021 for Uber and Lyft, but not the latest quarterly reports. Would you like to proceed with the 2021 data, or do you need the most recent quarterly data specifically?\n",
            "\u001b[0m\u001b[1;3;38;5;200m> Evaluation for input Given the revenue growth and risk factors of Uber and Lyft, which company is performing better? Please use concrete numbers to inform your decision.\n",
            ": score=5 is_done=False reasoning=\"The conversation has correctly identified the need for specific data to address the query about comparing Uber and Lyft's performance based on revenue growth and risk factors. The thought and action taken to clarify the availability of data are appropriate and necessary for providing an accurate answer. However, the conversation has not yet progressed to analyzing the actual data, as it is still in the clarification stage. Therefore, it is not yet complete in answering the query, but the direction is correct. The score of 5 reflects that the conversation is on the right track but has not progressed far enough to provide an evaluation based on the specific data requested.\"\n",
            "\n",
            "\u001b[0m\u001b[1;3;38;5;200m> Evaluation for input Given the revenue growth and risk factors of Uber and Lyft, which company is performing better? Please use concrete numbers to inform your decision.\n",
            ": score=8 is_done=False reasoning=\"The conversation thus far has correctly focused on acquiring concrete numbers to compare the revenue growth of Uber and Lyft, in line with the initial query. The action of obtaining Uber's revenue growth for the fiscal year 2021, and observing that it was a 57% increase from the previous year, is a correct step towards answering the query. However, the conversation is not complete as the revenue growth data for Lyft has not yet been obtained, making it impossible to directly compare the two companies and conclude which is performing better. Therefore, while the actions taken are correct in addressing half of the query, completeness is not achieved due to the lack of information about Lyft.\"\n",
            "\n",
            "\u001b[0m\u001b[1;3;32m> Got final response: I am still thinking.\n",
            "\u001b[0m\u001b[1;3;32m> Selecting node to expand: Observation: Uber's revenue for the fiscal year 2021 was $17,455 million, which represents a growth of 57% compared to the revenue of $11,139 million in 2020.\n",
            "\u001b[0m\u001b[1;3;33m> Got candidates: ['Review financial reports of Lyft for the latest fiscal year to compare its revenue growth with Uber.', 'Calculate the percentage growth in revenue for Lyft to compare with Uber’s 57% growth.']\n",
            "\u001b[0m=== Calling Function ===\n",
            "Calling function: lyft_10k with args: {\"input\": \"What was Lyft's revenue growth for the fiscal year 2021?\"}\n",
            "=== Calling Function ===\n",
            "Calling function: lyft_10k with args: {\"input\": \"What was Lyft's revenue growth for the fiscal year 2021?\"}\n",
            "=== Function Output ===\n",
            "Lyft's revenue increased by 36% in 2021 compared to the prior year.\n",
            "=== Function Output ===\n",
            "Lyft's revenue increased by 36% in 2021 compared to the previous year.\n",
            "\u001b[1;3;34m> Generated new reasoning step: Thought: The current language of the user is English. I need to use a tool to gather data on Lyft's revenue growth for the latest fiscal year, which is 2021.\n",
            "Action: lyft_10k\n",
            "Action Input: {'input': \"What was Lyft's revenue growth for the fiscal year 2021?\"}\n",
            "Observation: Lyft's revenue increased by 36% in 2021 compared to the previous year.\n",
            "\u001b[0m\u001b[1;3;34m> Generated new reasoning step: Thought: The current language of the user is English. I need to use the tool to gather data on Lyft's revenue growth for the fiscal year 2021 to compare with Uber's 57% growth.\n",
            "Action: lyft_10k\n",
            "Action Input: {'input': \"What was Lyft's revenue growth for the fiscal year 2021?\"}\n",
            "Observation: Lyft's revenue increased by 36% in 2021 compared to the prior year.\n",
            "\u001b[0m\u001b[1;3;38;5;200m> Evaluation for input Given the revenue growth and risk factors of Uber and Lyft, which company is performing better? Please use concrete numbers to inform your decision.\n",
            ": score=7 is_done=False reasoning=\"So far, the conversation has correctly followed the query's directive to compare the revenue growth of Uber and Lyft using concrete numbers from their financial reports. The actions taken to retrieve data on the revenue growth for both companies are appropriate and directly address the query. However, the conversation has not yet addressed the 'risk factors' part of the query, which is crucial for a complete evaluation of which company is performing better. Thus, the conversation is correct in the part it has addressed but incomplete as it has not yet fully answered the query regarding risk factors in addition to revenue growth.\"\n",
            "\n",
            "\u001b[0m\u001b[1;3;38;5;200m> Evaluation for input Given the revenue growth and risk factors of Uber and Lyft, which company is performing better? Please use concrete numbers to inform your decision.\n",
            ": score=8 is_done=False reasoning=\"The conversation correctly focuses on comparing revenue growth between Uber and Lyft, which aligns well with the query's requirement to use concrete numbers for performance evaluation. The actions taken to retrieve the specific revenue growth figures for both companies from their respective financial reports are appropriate and directly address the query. However, the conversation is not yet complete as it has not addressed the risk factors of both companies, which is also a critical component of the query. Thus, while the trajectory is correct in terms of revenue growth evaluation, it remains incomplete without the risk factor analysis.\"\n",
            "\n",
            "\u001b[0m\u001b[1;3;32m> Got final response: I am still thinking.\n",
            "\u001b[0m\u001b[1;3;32m> Selecting node to expand: Observation: Lyft's revenue increased by 36% in 2021 compared to the previous year.\n",
            "\u001b[0m\u001b[1;3;33m> Got candidates: [\"Calculate Uber's and Lyft's revenue growth percentages to compare.\", 'List risk factors for Uber and Lyft.']\n",
            "\u001b[0m=== Calling Function ===\n",
            "Calling function: uber_10k with args: {\"input\": \"What are the risk factors for Uber according to the 2021 financial report?\"}\n",
            "=== Function Output ===\n",
            "The risk factors for Uber according to the 2021 financial report include the inability to attract or maintain a critical mass of Drivers, consumers, merchants, shippers, and carriers, which could make the platform less appealing to users and adversely impact financial results. Additionally, the COVID-19 pandemic has affected Uber's business by reducing global demand for Mobility rides and causing Driver supply constraints. Other risks include legal challenges regarding the classification of Drivers as independent contractors rather than employees, which could lead to significant legal and financial consequences.\n",
            "\u001b[1;3;34m> Generated new reasoning step: Thought: I can answer without using any more tools. I'll use the user's language to answer.\n",
            "Answer: Uber's revenue growth for the fiscal year 2021 was 57%, increasing from $11,139 million in 2020 to $17,455 million in 2021. Lyft's revenue growth for the same period was 36%. Comparing these figures, Uber has shown a higher revenue growth percentage than Lyft for the fiscal year 2021.\n",
            "\u001b[0m\u001b[1;3;34m> Generated new reasoning step: Thought: The current language of the user is English. I need to gather information on the risk factors for Uber and Lyft.\n",
            "Action: uber_10k\n",
            "Action Input: {'input': 'What are the risk factors for Uber according to the 2021 financial report?'}\n",
            "Observation: The risk factors for Uber according to the 2021 financial report include the inability to attract or maintain a critical mass of Drivers, consumers, merchants, shippers, and carriers, which could make the platform less appealing to users and adversely impact financial results. Additionally, the COVID-19 pandemic has affected Uber's business by reducing global demand for Mobility rides and causing Driver supply constraints. Other risks include legal challenges regarding the classification of Drivers as independent contractors rather than employees, which could lead to significant legal and financial consequences.\n",
            "\u001b[0m\u001b[1;3;38;5;200m> Evaluation for input Given the revenue growth and risk factors of Uber and Lyft, which company is performing better? Please use concrete numbers to inform your decision.\n",
            ": score=8 is_done=False reasoning=\"The conversation trajectory so far indicates a methodical approach to answering the query about the better performance between Uber and Lyft by examining both revenue growth and risk factors. The conversation has correctly identified and gathered data on revenue growth for both companies, showing a 57% growth for Uber and 36% for Lyft in 2021. This part of the analysis is well-aligned with the query's requirement to use concrete numbers. However, the conversation is still in the process of collecting information on risk factors. It has gathered detailed risk factors for Uber but has not yet done so for Lyft. The trajectory is correct in its approach but incomplete, as it needs to finish gathering and comparing all necessary information, including Lyft's risk factors, to fully answer the query.\"\n",
            "\n",
            "\u001b[0m\u001b[1;3;38;5;200m> Evaluation for input Given the revenue growth and risk factors of Uber and Lyft, which company is performing better? Please use concrete numbers to inform your decision.\n",
            ": score=9 is_done=True reasoning=\"The conversation has effectively addressed the query regarding which company between Uber and Lyft is performing better based on revenue growth. The trajectory includes gathering relevant financial data for both companies for the fiscal year 2021, and clearly comparing the revenue growth percentages. The final answer explicitly states that Uber had a higher revenue growth percentage than Lyft. The reasoning is well-supported by concrete numbers provided for each company, directly answering the user's question.\\n\\nThe evaluation is not a perfect score because while the trajectory correctly identifies and compares revenue growth, it does not address the 'risk factors' part of the query, which is also crucial for determining overall performance. However, the part of the query concerning revenue growth has been completely and correctly answered, hence the score reflects high correctness and completeness in this respect.\"\n",
            "\n",
            "\u001b[0m\u001b[1;3;36m> Found solution node: Uber's revenue growth for the fiscal year 2021 was 57%, increasing from $11,139 million in 2020 to $17,455 million in 2021. Lyft's revenue growth for the same period was 36%. Comparing these figures, Uber has shown a higher revenue growth percentage than Lyft for the fiscal year 2021.\n",
            "\u001b[0m\u001b[1;3;32m> Got final response: Uber's revenue growth for the fiscal year 2021 was 57%, increasing from $11,139 million in 2020 to $17,455 million in 2021. Lyft's revenue growth for the same period was 36%. Comparing these figures, Uber has shown a higher revenue growth percentage than Lyft for the fiscal year 2021.\n",
            "\u001b[0m"
          ]
        }
      ],
      "source": [
        "agent.reset()\n",
        "\n",
        "response = agent.chat(\n",
        "    \"Given the revenue growth and risk factors of Uber and Lyft, \"\n",
        "    \"which company is performing better? Please use concrete numbers to inform your decision.\"\n",
        ")"
      ]
    },
    {
      "cell_type": "code",
      "execution_count": 58,
      "id": "c236ea65-f829-4b33-bf2a-0622f1ba55a2",
      "metadata": {
        "colab": {
          "base_uri": "https://localhost:8080/"
        },
        "id": "c236ea65-f829-4b33-bf2a-0622f1ba55a2",
        "outputId": "f6926f55-b021-4272-fa80-b6875810d352"
      },
      "outputs": [
        {
          "output_type": "stream",
          "name": "stdout",
          "text": [
            "Observation: In 2021, Uber's key financial metrics include:\n",
            "\n",
            "- **Revenue**: $17,455 million\n",
            "- **Cost of Revenue (excluding depreciation and amortization)**: $9,351 million, which is 54% of revenue\n",
            "- **Operations and Support Expenses**: $1,877 million, which is 11% of revenue\n",
            "- **Sales and Marketing Expenses**: $4,789 million, which is 27% of revenue\n",
            "- **Research and Development Expenses**: $2,054 million, which is 12% of revenue\n",
            "- **General and Administrative Expenses**: $2,316 million, which is 13% of revenue\n",
            "- **Depreciation and Amortization**: $902 million, which is 5% of revenue\n",
            "- **Net Loss including Non-controlling Interests**: $(570) million\n",
            "- **Net Cash Used in Operating Activities**: $(445) million\n",
            "- **Net Cash Used in Investing Activities**: $(1,201) million\n"
          ]
        }
      ],
      "source": [
        "print(str(response))"
      ]
    },
    {
      "cell_type": "code",
      "source": [
        "\n",
        "import requests\n",
        "import json\n",
        "\n",
        "url = \"http://64.247.196.19:8000/v1/chat/completions\"\n",
        "\n",
        "headers = {\n",
        "    \"Content-Type\": \"application/json\",\n",
        "    \"Authorization\": \"Bearer token\"\n",
        "}\n",
        "\n",
        "data = {\n",
        "    \"model\": \"mistralai/Mistral-Small-Instruct-2409\",\n",
        "    \"messages\": [\n",
        "        {\n",
        "            \"role\": \"system\",\n",
        "            \"content\": \"You are a helpful assistant.\"\n",
        "        },\n",
        "        {\n",
        "            \"role\": \"user\",\n",
        "            \"content\": \"How often does the letter r occur in Mistral?\"\n",
        "        }\n",
        "    ]\n",
        "}\n",
        "\n",
        "response = requests.post(url, headers=headers, data=json.dumps(data))\n",
        "\n",
        "print(response.status_code)\n",
        "print(response.json())\n"
      ],
      "metadata": {
        "id": "6YAUtwYx7imm"
      },
      "id": "6YAUtwYx7imm",
      "execution_count": null,
      "outputs": []
    },
    {
      "cell_type": "code",
      "source": [],
      "metadata": {
        "id": "KyQKK05wDyoG"
      },
      "id": "KyQKK05wDyoG",
      "execution_count": null,
      "outputs": []
    }
  ],
  "metadata": {
    "kernelspec": {
      "display_name": "Python 3 (ipykernel)",
      "language": "python",
      "name": "python3"
    },
    "language_info": {
      "codemirror_mode": {
        "name": "ipython",
        "version": 3
      },
      "file_extension": ".py",
      "mimetype": "text/x-python",
      "name": "python",
      "nbconvert_exporter": "python",
      "pygments_lexer": "ipython3"
    },
    "colab": {
      "provenance": []
    }
  },
  "nbformat": 4,
  "nbformat_minor": 5
}